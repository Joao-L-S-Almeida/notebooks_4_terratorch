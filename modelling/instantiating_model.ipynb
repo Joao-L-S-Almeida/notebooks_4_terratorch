{
  "cells": [
    {
      "cell_type": "markdown",
      "id": "7952a79b-1814-4cd0-bc59-43d57d00c533",
      "metadata": {
        "id": "7952a79b-1814-4cd0-bc59-43d57d00c533"
      },
      "source": [
        "# Setup\n",
        "1. In colab: Go to \"Runtime\" -> \"Change runtime type\" -> Select \"T4 GPU\"\n",
        "2. Install TerraTorch"
      ]
    },
    {
      "cell_type": "markdown",
      "source": [
        "Installing the basic dependencies in our environment."
      ],
      "metadata": {
        "id": "AXPmPqoJxxMM"
      },
      "id": "AXPmPqoJxxMM"
    },
    {
      "cell_type": "code",
      "execution_count": 1,
      "id": "9a34b6b3-9d20-443e-af6e-2c1841d550dd",
      "metadata": {
        "id": "9a34b6b3-9d20-443e-af6e-2c1841d550dd"
      },
      "outputs": [],
      "source": [
        "!pip install terratorch==1.0 gdown tensorboard &> install.log"
      ]
    },
    {
      "cell_type": "code",
      "execution_count": null,
      "id": "ff73140e-c2b0-4898-bc7f-1b8932c05bbd",
      "metadata": {
        "id": "ff73140e-c2b0-4898-bc7f-1b8932c05bbd"
      },
      "outputs": [],
      "source": [
        "import os\n",
        "import sys\n",
        "import torch\n",
        "import gdown\n",
        "import terratorch\n",
        "import albumentations\n",
        "import lightning.pytorch as pl\n",
        "import matplotlib.pyplot as plt\n",
        "from pathlib import Path\n",
        "from terratorch.datamodules import GenericNonGeoSegmentationDataModule\n",
        "import warnings\n",
        "import os\n",
        "import zipfile\n",
        "\n",
        "#os.environ[\"TENSORBOARD_PROXY_URL\"]= os.environ[\"NB_PREFIX\"]+\"/proxy/6006/\"\n",
        "warnings.filterwarnings('ignore')"
      ]
    },
    {
      "cell_type": "markdown",
      "source": [
        "This is the method used to \"checkpoint\" (periodically save the model to disk)."
      ],
      "metadata": {
        "id": "PBTnbjvGyF4N"
      },
      "id": "PBTnbjvGyF4N"
    },
    {
      "cell_type": "code",
      "execution_count": null,
      "id": "e2ce7d1f-dd22-4bc2-ba94-dc6566ac4c8f",
      "metadata": {
        "colab": {
          "base_uri": "https://localhost:8080/"
        },
        "id": "e2ce7d1f-dd22-4bc2-ba94-dc6566ac4c8f",
        "outputId": "f67f9162-40c7-4659-f81d-c7f0ab06ab79"
      },
      "outputs": [
        {
          "output_type": "stream",
          "name": "stderr",
          "text": [
            "INFO: Seed set to 0\n",
            "INFO:lightning.fabric.utilities.seed:Seed set to 0\n"
          ]
        }
      ],
      "source": [
        "pl.seed_everything(0)\n",
        "\n",
        "checkpoint_callback = pl.callbacks.ModelCheckpoint(\n",
        "    dirpath=\"output/agb/checkpoints/\",\n",
        "    mode=\"min\",\n",
        "    monitor=\"val/RMSE\", # Variable to monitor\n",
        "    filename=\"best-{epoch:02d}\",\n",
        ")\n",
        "\n",
        "from lightning.pytorch.callbacks import Callback"
      ]
    },
    {
      "cell_type": "markdown",
      "source": [
        "Instantiating the PyTorch Lightning \"Trainer\", the structure that will manage all the training/validation/inference process. See more [here](https://ibm.github.io/terratorch/stable/architecture/#architecture-overview)."
      ],
      "metadata": {
        "id": "xvAZ07EwyTbO"
      },
      "id": "xvAZ07EwyTbO"
    },
    {
      "cell_type": "code",
      "execution_count": null,
      "id": "7e7df110-8b6e-48b2-998b-ed3189584049",
      "metadata": {
        "colab": {
          "base_uri": "https://localhost:8080/"
        },
        "id": "7e7df110-8b6e-48b2-998b-ed3189584049",
        "outputId": "4a55588a-6cc9-4b05-e9e1-3db3dda24dd5"
      },
      "outputs": [
        {
          "output_type": "stream",
          "name": "stderr",
          "text": [
            "INFO: Using bfloat16 Automatic Mixed Precision (AMP)\n",
            "INFO:lightning.pytorch.utilities.rank_zero:Using bfloat16 Automatic Mixed Precision (AMP)\n",
            "INFO: You have turned on `Trainer(detect_anomaly=True)`. This will significantly slow down compute speed and is recommended only for model debugging.\n",
            "INFO:lightning.pytorch.utilities.rank_zero:You have turned on `Trainer(detect_anomaly=True)`. This will significantly slow down compute speed and is recommended only for model debugging.\n",
            "INFO: GPU available: True (cuda), used: True\n",
            "INFO:lightning.pytorch.utilities.rank_zero:GPU available: True (cuda), used: True\n",
            "INFO: TPU available: False, using: 0 TPU cores\n",
            "INFO:lightning.pytorch.utilities.rank_zero:TPU available: False, using: 0 TPU cores\n",
            "INFO: HPU available: False, using: 0 HPUs\n",
            "INFO:lightning.pytorch.utilities.rank_zero:HPU available: False, using: 0 HPUs\n"
          ]
        }
      ],
      "source": [
        "# Lightning Trainer\n",
        "trainer = pl.Trainer(\n",
        "    accelerator=\"auto\",\n",
        "    strategy=\"auto\",\n",
        "    devices=1, # Deactivate multi-gpu because it often fails in notebooks\n",
        "    precision='bf16-mixed',  # Speed up training\n",
        "    num_nodes=1,\n",
        "    logger=True,  # Uses TensorBoard by default\n",
        "    max_epochs=1, # For demos\n",
        "    log_every_n_steps=1,\n",
        "    enable_checkpointing=True,\n",
        "    callbacks=[checkpoint_callback, pl.callbacks.RichProgressBar()],\n",
        "    default_root_dir=\"output/agb\",\n",
        "    detect_anomaly=True,\n",
        ")"
      ]
    },
    {
      "cell_type": "markdown",
      "source": [
        "The class that we have called `model` is, in fact, a combination of `task` (segmentation, regression, classification, ...), the neural network architecture and the optimizer.\n",
        "In TerraTorch, the neural network is a combination of:\n",
        "* **backbone**: the encoder of the pretrained model.\n",
        "* **neck**: and intermediary network aimed at adjusting the output of the backbone to be compartible with the decoder expected input.\n",
        "* **decoder**: a network we introduce with the purpose of converting the backbone embedding state to our aimed task.\n",
        "* **head**: the last layer of specialization, it is a small network associated with each specific task and works by adapting the decoder outputs to predict the target ones.\n",
        "\n",
        "Experiment with different configurations in order to see how the object is modified."
      ],
      "metadata": {
        "id": "lk--9ScZyxxK"
      },
      "id": "lk--9ScZyxxK"
    },
    {
      "cell_type": "code",
      "execution_count": null,
      "id": "79e046cc-d79d-4f85-bc2d-2e953703310e",
      "metadata": {
        "id": "79e046cc-d79d-4f85-bc2d-2e953703310e"
      },
      "outputs": [],
      "source": [
        "# Model\n",
        "model = terratorch.tasks.PixelwiseRegressionTask(\n",
        "    model_factory=\"EncoderDecoderFactory\",\n",
        "    model_args={\n",
        "        # Backbone\n",
        "        \"backbone\": \"prithvi_eo_v2_300\", # Model can be either prithvi_eo_v1_100, prithvi_eo_v2_300, prithvi_eo_v2_300_tl, prithvi_eo_v2_600, prithvi_eo_v2_600_tl\n",
        "        \"backbone_pretrained\": True,\n",
        "        \"backbone_num_frames\": 1, # 1 is the default value,\n",
        "        # \"backbone_img_size\": 224,\n",
        "        \"backbone_bands\": [\"BLUE\", \"GREEN\", \"RED\", \"NIR_NARROW\", \"SWIR_1\", \"SWIR_2\"],\n",
        "        # \"backbone_coords_encoding\": [], # use [\"time\", \"location\"] for time and location metadata\n",
        "\n",
        "        # Necks\n",
        "        \"necks\": [\n",
        "            {\n",
        "                \"name\": \"SelectIndices\",\n",
        "                # \"indices\": [2, 5, 8, 11] # indices for prithvi_eo_v1_100\n",
        "                \"indices\": [5, 11, 17, 23] # indices for prithvi_eo_v2_300\n",
        "                # \"indices\": [7, 15, 23, 31] # indices for prithvi_eo_v2_600\n",
        "            },\n",
        "            {\"name\": \"ReshapeTokensToImage\",},\n",
        "            {\"name\": \"LearnedInterpolateToPyramidal\"}\n",
        "        ],\n",
        "\n",
        "        # Decoder\n",
        "        \"decoder\": \"UNetDecoder\",\n",
        "        \"decoder_channels\": [512, 256, 128, 64],\n",
        "        # \"head_dropout\": 0.16194593880230534,\n",
        "        # \"head_final_act\": torch.nn.ReLU,\n",
        "        # \"head_learned_upscale_layers\": 2\n",
        "    },\n",
        "\n",
        "    loss=\"rmse\",\n",
        "    optimizer=\"AdamW\",\n",
        "    lr=1e-3,\n",
        "    ignore_index=-1,\n",
        "    freeze_backbone=True, # Only to speed up fine-tuning\n",
        "    freeze_decoder=False,\n",
        "    plot_on_val=True,\n",
        "    # class_names=['no burned', 'burned']  # optionally define class names\n",
        ")"
      ]
    },
    {
      "cell_type": "markdown",
      "source": [
        "An overview of the model we just instantiated."
      ],
      "metadata": {
        "id": "N49B0MJq0jvb"
      },
      "id": "N49B0MJq0jvb"
    },
    {
      "cell_type": "code",
      "execution_count": null,
      "id": "cdc3eecb-e8cb-4aca-8758-ec7f863aeef2",
      "metadata": {
        "id": "cdc3eecb-e8cb-4aca-8758-ec7f863aeef2",
        "outputId": "2c736c4f-1045-49b5-d139-21bb9e9cca29"
      },
      "outputs": [
        {
          "data": {
            "text/plain": [
              "PixelwiseRegressionTask(\n",
              "  (model): PixelWiseModel(\n",
              "    (encoder): PrithviViT(\n",
              "      (patch_embed): PatchEmbed(\n",
              "        (proj): Conv3d(6, 1024, kernel_size=(1, 16, 16), stride=(1, 16, 16))\n",
              "        (norm): Identity()\n",
              "      )\n",
              "      (blocks): ModuleList(\n",
              "        (0-23): 24 x Block(\n",
              "          (norm1): LayerNorm((1024,), eps=1e-05, elementwise_affine=True)\n",
              "          (attn): Attention(\n",
              "            (qkv): Linear(in_features=1024, out_features=3072, bias=True)\n",
              "            (q_norm): Identity()\n",
              "            (k_norm): Identity()\n",
              "            (attn_drop): Dropout(p=0.0, inplace=False)\n",
              "            (proj): Linear(in_features=1024, out_features=1024, bias=True)\n",
              "            (proj_drop): Dropout(p=0.0, inplace=False)\n",
              "          )\n",
              "          (ls1): Identity()\n",
              "          (drop_path1): Identity()\n",
              "          (norm2): LayerNorm((1024,), eps=1e-05, elementwise_affine=True)\n",
              "          (mlp): Mlp(\n",
              "            (fc1): Linear(in_features=1024, out_features=4096, bias=True)\n",
              "            (act): GELU(approximate='none')\n",
              "            (drop1): Dropout(p=0.0, inplace=False)\n",
              "            (norm): Identity()\n",
              "            (fc2): Linear(in_features=4096, out_features=1024, bias=True)\n",
              "            (drop2): Dropout(p=0.0, inplace=False)\n",
              "          )\n",
              "          (ls2): Identity()\n",
              "          (drop_path2): Identity()\n",
              "        )\n",
              "      )\n",
              "      (norm): LayerNorm((1024,), eps=1e-05, elementwise_affine=True)\n",
              "    )\n",
              "    (decoder): UNetDecoder(\n",
              "      (decoder): UnetDecoder(\n",
              "        (center): Identity()\n",
              "        (blocks): ModuleList(\n",
              "          (0): DecoderBlock(\n",
              "            (conv1): Conv2dReLU(\n",
              "              (0): Conv2d(2048, 512, kernel_size=(3, 3), stride=(1, 1), padding=(1, 1), bias=False)\n",
              "              (1): BatchNorm2d(512, eps=1e-05, momentum=0.1, affine=True, track_running_stats=True)\n",
              "              (2): ReLU(inplace=True)\n",
              "            )\n",
              "            (attention1): Attention(\n",
              "              (attention): Identity()\n",
              "            )\n",
              "            (conv2): Conv2dReLU(\n",
              "              (0): Conv2d(512, 512, kernel_size=(3, 3), stride=(1, 1), padding=(1, 1), bias=False)\n",
              "              (1): BatchNorm2d(512, eps=1e-05, momentum=0.1, affine=True, track_running_stats=True)\n",
              "              (2): ReLU(inplace=True)\n",
              "            )\n",
              "            (attention2): Attention(\n",
              "              (attention): Identity()\n",
              "            )\n",
              "          )\n",
              "          (1): DecoderBlock(\n",
              "            (conv1): Conv2dReLU(\n",
              "              (0): Conv2d(1024, 256, kernel_size=(3, 3), stride=(1, 1), padding=(1, 1), bias=False)\n",
              "              (1): BatchNorm2d(256, eps=1e-05, momentum=0.1, affine=True, track_running_stats=True)\n",
              "              (2): ReLU(inplace=True)\n",
              "            )\n",
              "            (attention1): Attention(\n",
              "              (attention): Identity()\n",
              "            )\n",
              "            (conv2): Conv2dReLU(\n",
              "              (0): Conv2d(256, 256, kernel_size=(3, 3), stride=(1, 1), padding=(1, 1), bias=False)\n",
              "              (1): BatchNorm2d(256, eps=1e-05, momentum=0.1, affine=True, track_running_stats=True)\n",
              "              (2): ReLU(inplace=True)\n",
              "            )\n",
              "            (attention2): Attention(\n",
              "              (attention): Identity()\n",
              "            )\n",
              "          )\n",
              "          (2): DecoderBlock(\n",
              "            (conv1): Conv2dReLU(\n",
              "              (0): Conv2d(512, 128, kernel_size=(3, 3), stride=(1, 1), padding=(1, 1), bias=False)\n",
              "              (1): BatchNorm2d(128, eps=1e-05, momentum=0.1, affine=True, track_running_stats=True)\n",
              "              (2): ReLU(inplace=True)\n",
              "            )\n",
              "            (attention1): Attention(\n",
              "              (attention): Identity()\n",
              "            )\n",
              "            (conv2): Conv2dReLU(\n",
              "              (0): Conv2d(128, 128, kernel_size=(3, 3), stride=(1, 1), padding=(1, 1), bias=False)\n",
              "              (1): BatchNorm2d(128, eps=1e-05, momentum=0.1, affine=True, track_running_stats=True)\n",
              "              (2): ReLU(inplace=True)\n",
              "            )\n",
              "            (attention2): Attention(\n",
              "              (attention): Identity()\n",
              "            )\n",
              "          )\n",
              "          (3): DecoderBlock(\n",
              "            (conv1): Conv2dReLU(\n",
              "              (0): Conv2d(128, 64, kernel_size=(3, 3), stride=(1, 1), padding=(1, 1), bias=False)\n",
              "              (1): BatchNorm2d(64, eps=1e-05, momentum=0.1, affine=True, track_running_stats=True)\n",
              "              (2): ReLU(inplace=True)\n",
              "            )\n",
              "            (attention1): Attention(\n",
              "              (attention): Identity()\n",
              "            )\n",
              "            (conv2): Conv2dReLU(\n",
              "              (0): Conv2d(64, 64, kernel_size=(3, 3), stride=(1, 1), padding=(1, 1), bias=False)\n",
              "              (1): BatchNorm2d(64, eps=1e-05, momentum=0.1, affine=True, track_running_stats=True)\n",
              "              (2): ReLU(inplace=True)\n",
              "            )\n",
              "            (attention2): Attention(\n",
              "              (attention): Identity()\n",
              "            )\n",
              "          )\n",
              "        )\n",
              "      )\n",
              "    )\n",
              "    (head): RegressionHead(\n",
              "      (final_act): Identity()\n",
              "      (head): Sequential(\n",
              "        (0): Dropout2d(p=0, inplace=False)\n",
              "        (1): Conv2d(64, 1, kernel_size=(1, 1), stride=(1, 1))\n",
              "      )\n",
              "    )\n",
              "    (aux_heads): ModuleDict()\n",
              "    (neck): Sequential(\n",
              "      (0): SelectIndices()\n",
              "      (1): ReshapeTokensToImage()\n",
              "      (2): LearnedInterpolateToPyramidal(\n",
              "        (fpn1): Sequential(\n",
              "          (0): ConvTranspose2d(1024, 512, kernel_size=(2, 2), stride=(2, 2))\n",
              "          (1): BatchNorm2d(512, eps=1e-05, momentum=0.1, affine=True, track_running_stats=True)\n",
              "          (2): GELU(approximate='none')\n",
              "          (3): ConvTranspose2d(512, 256, kernel_size=(2, 2), stride=(2, 2))\n",
              "        )\n",
              "        (fpn2): Sequential(\n",
              "          (0): ConvTranspose2d(1024, 512, kernel_size=(2, 2), stride=(2, 2))\n",
              "        )\n",
              "        (fpn3): Sequential(\n",
              "          (0): Identity()\n",
              "        )\n",
              "        (fpn4): Sequential(\n",
              "          (0): MaxPool2d(kernel_size=2, stride=2, padding=0, dilation=1, ceil_mode=False)\n",
              "        )\n",
              "      )\n",
              "    )\n",
              "  )\n",
              "  (criterion): RootLossWrapper(\n",
              "    (loss_function): IgnoreIndexLossWrapper(\n",
              "      (loss_function): MSELoss()\n",
              "    )\n",
              "  )\n",
              "  (train_metrics): MetricCollection(\n",
              "    (MAE): IgnoreIndexMetricWrapper(\n",
              "      (metric): MeanAbsoluteError()\n",
              "    )\n",
              "    (MSE): IgnoreIndexMetricWrapper(\n",
              "      (metric): MeanSquaredError()\n",
              "    )\n",
              "    (RMSE): IgnoreIndexMetricWrapper(\n",
              "      (metric): MeanSquaredError()\n",
              "    ),\n",
              "    prefix=train/\n",
              "  )\n",
              "  (val_metrics): MetricCollection(\n",
              "    (MAE): IgnoreIndexMetricWrapper(\n",
              "      (metric): MeanAbsoluteError()\n",
              "    )\n",
              "    (MSE): IgnoreIndexMetricWrapper(\n",
              "      (metric): MeanSquaredError()\n",
              "    )\n",
              "    (RMSE): IgnoreIndexMetricWrapper(\n",
              "      (metric): MeanSquaredError()\n",
              "    ),\n",
              "    prefix=val/\n",
              "  )\n",
              "  (test_metrics): ModuleList(\n",
              "    (0): MetricCollection(\n",
              "      (MAE): IgnoreIndexMetricWrapper(\n",
              "        (metric): MeanAbsoluteError()\n",
              "      )\n",
              "      (MSE): IgnoreIndexMetricWrapper(\n",
              "        (metric): MeanSquaredError()\n",
              "      )\n",
              "      (RMSE): IgnoreIndexMetricWrapper(\n",
              "        (metric): MeanSquaredError()\n",
              "      ),\n",
              "      prefix=test/\n",
              "    )\n",
              "  )\n",
              ")"
            ]
          },
          "execution_count": 9,
          "metadata": {},
          "output_type": "execute_result"
        }
      ],
      "source": [
        "model"
      ]
    },
    {
      "cell_type": "code",
      "execution_count": null,
      "id": "0b017478-70d3-47a7-81ca-c94bfa7a07d5",
      "metadata": {
        "id": "0b017478-70d3-47a7-81ca-c94bfa7a07d5"
      },
      "outputs": [],
      "source": []
    }
  ],
  "metadata": {
    "kernelspec": {
      "display_name": "Python 3",
      "name": "python3"
    },
    "language_info": {
      "codemirror_mode": {
        "name": "ipython",
        "version": 3
      },
      "file_extension": ".py",
      "mimetype": "text/x-python",
      "name": "python",
      "nbconvert_exporter": "python",
      "pygments_lexer": "ipython3",
      "version": "3.12.7"
    },
    "colab": {
      "provenance": [],
      "gpuType": "T4"
    },
    "accelerator": "GPU"
  },
  "nbformat": 4,
  "nbformat_minor": 5
}