{
 "cells": [
  {
   "cell_type": "markdown",
   "id": "a62c50fe-629d-4ab3-8daa-8cea415a379b",
   "metadata": {},
   "source": [
    "# Creating a finetuning workload with the script interface\n",
    "This tutorial does not intend to create an accurate finetuned example (we are running for a single epoch!), but to describe step-by-step how to instantiate and run this kind of task. "
   ]
  },
  {
   "cell_type": "code",
   "execution_count": 1,
   "id": "1445996d-703b-4216-985c-4982e5945c5c",
   "metadata": {},
   "outputs": [],
   "source": [
    "from lightning.pytorch import Trainer\n",
    "import terratorch\n",
    "import albumentations\n",
    "from albumentations.pytorch import ToTensorV2\n",
    "from terratorch.models import EncoderDecoderFactory\n",
    "from terratorch.models.necks import SelectIndices, LearnedInterpolateToPyramidal, ReshapeTokensToImage\n",
    "from terratorch.models.decoders import UNetDecoder\n",
    "from terratorch.datasets import HLSBands\n",
    "from terratorch.datamodules import GenericNonGeoSegmentationDataModule\n",
    "from terratorch.tasks import SemanticSegmentationTask"
   ]
  },
  {
   "cell_type": "markdown",
   "id": "7c3c5ebc-b841-4972-8335-75e524213541",
   "metadata": {},
   "source": [
    "### Defining fundamental parameters:\n",
    "* `lr` - learning rate.\n",
    "* `accelerator` - The kind of device in which the model will be executed. It is usually `gpu` or `cpu`. If we set it as `auto`, Lightning will select the most appropiate available device.\n",
    "* `max_epochs` - The maximum number of epochs used to train the model. "
   ]
  },
  {
   "cell_type": "code",
   "execution_count": 2,
   "id": "908100e7-1c25-42f3-bb72-68ff46f71bf3",
   "metadata": {},
   "outputs": [],
   "source": [
    "lr = 1e-4\n",
    "accelerator = \"auto\"\n",
    "max_epochs = 1"
   ]
  },
  {
   "cell_type": "markdown",
   "id": "4880a50e-958b-4b1c-a409-5816841341ac",
   "metadata": {},
   "source": [
    "### Next, we will instantiate the datamodule, the object we will use to load the files from disk to memory."
   ]
  },
  {
   "cell_type": "code",
   "execution_count": 3,
   "id": "da8cccc8-fd63-4e52-9608-d95d25659333",
   "metadata": {},
   "outputs": [],
   "source": [
    "datamodule = GenericNonGeoSegmentationDataModule(\n",
    "    batch_size = 2,\n",
    "    num_workers = 8,\n",
    "    dataset_bands = [HLSBands.BLUE, HLSBands.GREEN, HLSBands.RED, HLSBands.NIR_NARROW, HLSBands.SWIR_1, HLSBands.SWIR_2],\n",
    "    output_bands = [HLSBands.BLUE, HLSBands.GREEN, HLSBands.RED, HLSBands.NIR_NARROW, HLSBands.SWIR_1, HLSBands.SWIR_2],\n",
    "    rgb_indices = [2, 1, 0],\n",
    "    means = [\n",
    "          0.033349706741586264,\n",
    "          0.05701185520536176,\n",
    "          0.05889748132001316,\n",
    "          0.2323245113436119,\n",
    "          0.1972854853760658,\n",
    "          0.11944914225186566,\n",
    "    ],\n",
    "    stds = [\n",
    "          0.02269135568823774,\n",
    "          0.026807560223070237,\n",
    "          0.04004109844362779,\n",
    "          0.07791732423672691,\n",
    "          0.08708738838140137,\n",
    "          0.07241979477437814,\n",
    "    ],\n",
    "    train_data_root = \"../burn_scars/hls_burn_scars/training\",\n",
    "    val_data_root = \"../burn_scars/hls_burn_scars/validation\",\n",
    "    test_data_root = \"../burn_scars/hls_burn_scars/validation\",\n",
    "    img_grep = \"*_merged.tif\",\n",
    "    label_grep = \"*.mask.tif\",\n",
    "    num_classes = 2,\n",
    "    train_transform = [albumentations.D4(), ToTensorV2()],\n",
    "    test_transform = [ToTensorV2()],\n",
    "    no_data_replace = 0,\n",
    "    no_label_replace =  -1,\n",
    ")"
   ]
  },
  {
   "cell_type": "markdown",
   "id": "47b90d9a-b07b-44a5-9020-75fec19874b7",
   "metadata": {},
   "source": [
    "### A dictionary containing all the arguments necessary to instantiate a complete `backbone-neck-decoder-head`, which will be passed to the task object."
   ]
  },
  {
   "cell_type": "code",
   "execution_count": 4,
   "id": "c964b5e4-00d0-425a-af39-052faedf048f",
   "metadata": {},
   "outputs": [],
   "source": [
    "model_args = dict(\n",
    "  backbone=\"prithvi_eo_v2_300\",\n",
    "  backbone_pretrained=True,\n",
    "  backbone_num_frames=1,\n",
    "  num_classes = 2,\n",
    "  backbone_bands=[\n",
    "      \"BLUE\",\n",
    "      \"GREEN\",\n",
    "      \"RED\",\n",
    "      \"NIR_NARROW\",\n",
    "      \"SWIR_1\",\n",
    "      \"WIR_2\",\n",
    "  ],\n",
    "  decoder = \"UNetDecoder\",\n",
    "  decoder_channels = [512, 256, 128, 64],\n",
    "  necks=[{\"name\": \"SelectIndices\", \"indices\": [5, 11, 17, 23]},\n",
    "         {\"name\": \"ReshapeTokensToImage\"},\n",
    "         {\"name\": \"LearnedInterpolateToPyramidal\"}],\n",
    "  head_dropout=0.1\n",
    ")"
   ]
  },
  {
   "cell_type": "markdown",
   "id": "ce730f3f-c503-4ea1-96c4-fd4dc7ee3c43",
   "metadata": {},
   "source": [
    "### Creating the `task` object, which will be used to properly define how the model will be trained and used after it."
   ]
  },
  {
   "cell_type": "code",
   "execution_count": 5,
   "id": "62ed2a98-a6f2-4ad9-b0fb-569892e163eb",
   "metadata": {},
   "outputs": [
    {
     "name": "stderr",
     "output_type": "stream",
     "text": [
      "INFO:root:Loaded weights for HLSBands.BLUE in position 0 of patch embed\n",
      "INFO:root:Loaded weights for HLSBands.GREEN in position 1 of patch embed\n",
      "INFO:root:Loaded weights for HLSBands.RED in position 2 of patch embed\n",
      "INFO:root:Loaded weights for HLSBands.NIR_NARROW in position 3 of patch embed\n",
      "INFO:root:Loaded weights for HLSBands.SWIR_1 in position 4 of patch embed\n"
     ]
    }
   ],
   "source": [
    "task = SemanticSegmentationTask(\n",
    "    model_args,\n",
    "    \"EncoderDecoderFactory\",\n",
    "    loss=\"ce\",\n",
    "    lr=lr,\n",
    "    ignore_index=-1,\n",
    "    optimizer=\"AdamW\",\n",
    "    optimizer_hparams={\"weight_decay\": 0.05},\n",
    "    freeze_backbone = False,\n",
    "    plot_on_val = False,\n",
    "    class_names = [\"Not burned\", \"Burn scar\"],\n",
    ")"
   ]
  },
  {
   "cell_type": "markdown",
   "id": "dcff1ea1-5a52-48e3-9161-2767b1a43438",
   "metadata": {},
   "source": [
    "### The object `Trainer` manages all the training process. It can be interpreted as an improved optimization loop, in which parallelism and checkpointing are transparently managed by the system. "
   ]
  },
  {
   "cell_type": "code",
   "execution_count": 6,
   "id": "f5f47df6-7e7d-4b8f-b7e2-26d42dea231f",
   "metadata": {},
   "outputs": [
    {
     "name": "stderr",
     "output_type": "stream",
     "text": [
      "You are using the plain ModelCheckpoint callback. Consider using LitModelCheckpoint which with seamless uploading to Model registry.\n",
      "GPU available: True (cuda), used: True\n",
      "TPU available: False, using: 0 TPU cores\n",
      "HPU available: False, using: 0 HPUs\n"
     ]
    }
   ],
   "source": [
    "trainer = Trainer(\n",
    "    accelerator=accelerator,\n",
    "    max_epochs=max_epochs,\n",
    ")"
   ]
  },
  {
   "cell_type": "markdown",
   "id": "aee79fa9-daf9-4589-815c-a1a34a5943b6",
   "metadata": {},
   "source": [
    "### Executing the training."
   ]
  },
  {
   "cell_type": "code",
   "execution_count": 7,
   "id": "771c026c-9e77-46e6-b8ae-5ded071094df",
   "metadata": {},
   "outputs": [
    {
     "name": "stderr",
     "output_type": "stream",
     "text": [
      "You are using a CUDA device ('NVIDIA RTX A4500 Laptop GPU') that has Tensor Cores. To properly utilize them, you should set `torch.set_float32_matmul_precision('medium' | 'high')` which will trade-off precision for performance. For more details, read https://pytorch.org/docs/stable/generated/torch.set_float32_matmul_precision.html#torch.set_float32_matmul_precision\n",
      "LOCAL_RANK: 0 - CUDA_VISIBLE_DEVICES: [0]\n",
      "\n",
      "  | Name          | Type             | Params | Mode \n",
      "-----------------------------------------------------------\n",
      "0 | model         | PixelWiseModel   | 324 M  | train\n",
      "1 | criterion     | CrossEntropyLoss | 0      | train\n",
      "2 | train_metrics | MetricCollection | 0      | train\n",
      "3 | val_metrics   | MetricCollection | 0      | train\n",
      "4 | test_metrics  | ModuleList       | 0      | train\n",
      "-----------------------------------------------------------\n",
      "324 M     Trainable params\n",
      "0         Non-trainable params\n",
      "324 M     Total params\n",
      "1,296.819 Total estimated model params size (MB)\n",
      "617       Modules in train mode\n",
      "0         Modules in eval mode\n"
     ]
    },
    {
     "data": {
      "application/vnd.jupyter.widget-view+json": {
       "model_id": "5e5bef3bb925454f80ab03ab0b0b41cd",
       "version_major": 2,
       "version_minor": 0
      },
      "text/plain": [
       "Sanity Checking: |                                                                                            …"
      ]
     },
     "metadata": {},
     "output_type": "display_data"
    },
    {
     "data": {
      "application/vnd.jupyter.widget-view+json": {
       "model_id": "b7d12e21dab04cfea74d608ab9a8653a",
       "version_major": 2,
       "version_minor": 0
      },
      "text/plain": [
       "Training: |                                                                                                   …"
      ]
     },
     "metadata": {},
     "output_type": "display_data"
    },
    {
     "data": {
      "application/vnd.jupyter.widget-view+json": {
       "model_id": "c58a667a22cd4bf1a3b1773c2cc50183",
       "version_major": 2,
       "version_minor": 0
      },
      "text/plain": [
       "Validation: |                                                                                                 …"
      ]
     },
     "metadata": {},
     "output_type": "display_data"
    },
    {
     "name": "stderr",
     "output_type": "stream",
     "text": [
      "/home/jalmeida/.pyenv/versions/3.12.7/envs/sbsr/lib/python3.12/site-packages/torchmetrics/utilities/prints.py:43: UserWarning: The ``compute`` method of metric MulticlassJaccardIndex was called before the ``update`` method which may lead to errors, as metric states have not yet been updated.\n",
      "  warnings.warn(*args, **kwargs)\n",
      "`Trainer.fit` stopped: `max_epochs=1` reached.\n"
     ]
    }
   ],
   "source": [
    "trainer.fit(model=task, datamodule=datamodule)"
   ]
  },
  {
   "cell_type": "markdown",
   "id": "e9ca8cc0-5455-4eab-b788-4d9a39fb2968",
   "metadata": {},
   "source": [
    "### Testing the trained model (extracting metrics). "
   ]
  },
  {
   "cell_type": "code",
   "execution_count": 8,
   "id": "d35d9522-2483-4e34-9c73-7237e03cb836",
   "metadata": {},
   "outputs": [
    {
     "name": "stderr",
     "output_type": "stream",
     "text": [
      "/home/jalmeida/.pyenv/versions/3.12.7/envs/sbsr/lib/python3.12/site-packages/lightning/pytorch/trainer/connectors/checkpoint_connector.py:149: `.test(ckpt_path=None)` was called without a model. The best model of the previous `fit` call will be used. You can pass `.test(ckpt_path='best')` to use the best model or `.test(ckpt_path='last')` to use the last model. If you pass a value, this warning will be silenced.\n",
      "Restoring states from the checkpoint path at /home/jalmeida/Projetos/SBSR_courses/SBSR_notebooks/local/lightning_logs/version_5/checkpoints/epoch=0-step=270.ckpt\n",
      "LOCAL_RANK: 0 - CUDA_VISIBLE_DEVICES: [0]\n",
      "Loaded model weights from the checkpoint at /home/jalmeida/Projetos/SBSR_courses/SBSR_notebooks/local/lightning_logs/version_5/checkpoints/epoch=0-step=270.ckpt\n"
     ]
    },
    {
     "data": {
      "application/vnd.jupyter.widget-view+json": {
       "model_id": "f1dbba3a04074cff8befd975b4524d85",
       "version_major": 2,
       "version_minor": 0
      },
      "text/plain": [
       "Testing: |                                                                                                    …"
      ]
     },
     "metadata": {},
     "output_type": "display_data"
    },
    {
     "data": {
      "text/html": [
       "<pre style=\"white-space:pre;overflow-x:auto;line-height:normal;font-family:Menlo,'DejaVu Sans Mono',consolas,'Courier New',monospace\">┏━━━━━━━━━━━━━━━━━━━━━━━━━━━━━━━━━━━━━━━━┳━━━━━━━━━━━━━━━━━━━━━━━━━━━━━━━━━━━━━━━━┓\n",
       "┃<span style=\"font-weight: bold\">              Test metric               </span>┃<span style=\"font-weight: bold\">              DataLoader 0              </span>┃\n",
       "┡━━━━━━━━━━━━━━━━━━━━━━━━━━━━━━━━━━━━━━━━╇━━━━━━━━━━━━━━━━━━━━━━━━━━━━━━━━━━━━━━━━┩\n",
       "│<span style=\"color: #008080; text-decoration-color: #008080\">        test/Multiclass_Accuracy        </span>│<span style=\"color: #800080; text-decoration-color: #800080\">           0.9274423718452454           </span>│\n",
       "│<span style=\"color: #008080; text-decoration-color: #008080\">        test/Multiclass_F1_Score        </span>│<span style=\"color: #800080; text-decoration-color: #800080\">           0.9274423718452454           </span>│\n",
       "│<span style=\"color: #008080; text-decoration-color: #008080\">     test/Multiclass_Jaccard_Index      </span>│<span style=\"color: #800080; text-decoration-color: #800080\">           0.7321492433547974           </span>│\n",
       "│<span style=\"color: #008080; text-decoration-color: #008080\">  test/Multiclass_Jaccard_Index_Micro   </span>│<span style=\"color: #800080; text-decoration-color: #800080\">           0.8647016882896423           </span>│\n",
       "│<span style=\"color: #008080; text-decoration-color: #008080\">               test/loss                </span>│<span style=\"color: #800080; text-decoration-color: #800080\">           0.2669268250465393           </span>│\n",
       "│<span style=\"color: #008080; text-decoration-color: #008080\">   test/multiclassaccuracy_Burn scar    </span>│<span style=\"color: #800080; text-decoration-color: #800080\">           0.9340785145759583           </span>│\n",
       "│<span style=\"color: #008080; text-decoration-color: #008080\">   test/multiclassaccuracy_Not burned   </span>│<span style=\"color: #800080; text-decoration-color: #800080\">           0.9267654418945312           </span>│\n",
       "│<span style=\"color: #008080; text-decoration-color: #008080\"> test/multiclassjaccardindex_Burn scar  </span>│<span style=\"color: #800080; text-decoration-color: #800080\">           0.5437235236167908           </span>│\n",
       "│<span style=\"color: #008080; text-decoration-color: #008080\"> test/multiclassjaccardindex_Not burned </span>│<span style=\"color: #800080; text-decoration-color: #800080\">           0.9205750226974487           </span>│\n",
       "└────────────────────────────────────────┴────────────────────────────────────────┘\n",
       "</pre>\n"
      ],
      "text/plain": [
       "┏━━━━━━━━━━━━━━━━━━━━━━━━━━━━━━━━━━━━━━━━┳━━━━━━━━━━━━━━━━━━━━━━━━━━━━━━━━━━━━━━━━┓\n",
       "┃\u001b[1m \u001b[0m\u001b[1m             Test metric              \u001b[0m\u001b[1m \u001b[0m┃\u001b[1m \u001b[0m\u001b[1m             DataLoader 0             \u001b[0m\u001b[1m \u001b[0m┃\n",
       "┡━━━━━━━━━━━━━━━━━━━━━━━━━━━━━━━━━━━━━━━━╇━━━━━━━━━━━━━━━━━━━━━━━━━━━━━━━━━━━━━━━━┩\n",
       "│\u001b[36m \u001b[0m\u001b[36m       test/Multiclass_Accuracy       \u001b[0m\u001b[36m \u001b[0m│\u001b[35m \u001b[0m\u001b[35m          0.9274423718452454          \u001b[0m\u001b[35m \u001b[0m│\n",
       "│\u001b[36m \u001b[0m\u001b[36m       test/Multiclass_F1_Score       \u001b[0m\u001b[36m \u001b[0m│\u001b[35m \u001b[0m\u001b[35m          0.9274423718452454          \u001b[0m\u001b[35m \u001b[0m│\n",
       "│\u001b[36m \u001b[0m\u001b[36m    test/Multiclass_Jaccard_Index     \u001b[0m\u001b[36m \u001b[0m│\u001b[35m \u001b[0m\u001b[35m          0.7321492433547974          \u001b[0m\u001b[35m \u001b[0m│\n",
       "│\u001b[36m \u001b[0m\u001b[36m test/Multiclass_Jaccard_Index_Micro  \u001b[0m\u001b[36m \u001b[0m│\u001b[35m \u001b[0m\u001b[35m          0.8647016882896423          \u001b[0m\u001b[35m \u001b[0m│\n",
       "│\u001b[36m \u001b[0m\u001b[36m              test/loss               \u001b[0m\u001b[36m \u001b[0m│\u001b[35m \u001b[0m\u001b[35m          0.2669268250465393          \u001b[0m\u001b[35m \u001b[0m│\n",
       "│\u001b[36m \u001b[0m\u001b[36m  test/multiclassaccuracy_Burn scar   \u001b[0m\u001b[36m \u001b[0m│\u001b[35m \u001b[0m\u001b[35m          0.9340785145759583          \u001b[0m\u001b[35m \u001b[0m│\n",
       "│\u001b[36m \u001b[0m\u001b[36m  test/multiclassaccuracy_Not burned  \u001b[0m\u001b[36m \u001b[0m│\u001b[35m \u001b[0m\u001b[35m          0.9267654418945312          \u001b[0m\u001b[35m \u001b[0m│\n",
       "│\u001b[36m \u001b[0m\u001b[36mtest/multiclassjaccardindex_Burn scar \u001b[0m\u001b[36m \u001b[0m│\u001b[35m \u001b[0m\u001b[35m          0.5437235236167908          \u001b[0m\u001b[35m \u001b[0m│\n",
       "│\u001b[36m \u001b[0m\u001b[36mtest/multiclassjaccardindex_Not burned\u001b[0m\u001b[36m \u001b[0m│\u001b[35m \u001b[0m\u001b[35m          0.9205750226974487          \u001b[0m\u001b[35m \u001b[0m│\n",
       "└────────────────────────────────────────┴────────────────────────────────────────┘\n"
      ]
     },
     "metadata": {},
     "output_type": "display_data"
    },
    {
     "data": {
      "text/plain": [
       "[{'test/loss': 0.2669268250465393,\n",
       "  'test/Multiclass_Accuracy': 0.9274423718452454,\n",
       "  'test/multiclassaccuracy_Not burned': 0.9267654418945312,\n",
       "  'test/multiclassaccuracy_Burn scar': 0.9340785145759583,\n",
       "  'test/Multiclass_F1_Score': 0.9274423718452454,\n",
       "  'test/Multiclass_Jaccard_Index': 0.7321492433547974,\n",
       "  'test/multiclassjaccardindex_Not burned': 0.9205750226974487,\n",
       "  'test/multiclassjaccardindex_Burn scar': 0.5437235236167908,\n",
       "  'test/Multiclass_Jaccard_Index_Micro': 0.8647016882896423}]"
      ]
     },
     "execution_count": 8,
     "metadata": {},
     "output_type": "execute_result"
    }
   ],
   "source": [
    "trainer.test(dataloaders=datamodule)"
   ]
  }
 ],
 "metadata": {
  "kernelspec": {
   "display_name": "Python 3 (ipykernel)",
   "language": "python",
   "name": "python3"
  },
  "language_info": {
   "codemirror_mode": {
    "name": "ipython",
    "version": 3
   },
   "file_extension": ".py",
   "mimetype": "text/x-python",
   "name": "python",
   "nbconvert_exporter": "python",
   "pygments_lexer": "ipython3",
   "version": "3.12.7"
  }
 },
 "nbformat": 4,
 "nbformat_minor": 5
}
