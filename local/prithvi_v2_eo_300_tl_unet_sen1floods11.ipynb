{
 "cells": [
  {
   "cell_type": "markdown",
   "id": "b4bacc318390456b",
   "metadata": {},
   "source": [
    "# Setup\n",
    "Install TerraTorch"
   ]
  },
  {
   "cell_type": "code",
   "execution_count": 1,
   "id": "W_4z81Fn9RET",
   "metadata": {},
   "outputs": [
    {
     "name": "stdout",
     "output_type": "stream",
     "text": [
      "Requirement already satisfied: terratorch in /home/jalmeida/Projetos/opensource/terratorch (0.99.9)\n",
      "Requirement already satisfied: gdown in /home/jalmeida/.pyenv/versions/3.12.7/envs/sbsr/lib/python3.12/site-packages (5.2.0)\n",
      "Requirement already satisfied: tensorboard in /home/jalmeida/.pyenv/versions/3.12.7/envs/sbsr/lib/python3.12/site-packages (2.19.0)\n",
      "Requirement already satisfied: torch in /home/jalmeida/.pyenv/versions/3.12.7/envs/sbsr/lib/python3.12/site-packages (from terratorch) (2.6.0)\n",
      "Requirement already satisfied: torchvision in /home/jalmeida/.pyenv/versions/3.12.7/envs/sbsr/lib/python3.12/site-packages (from terratorch) (0.21.0)\n",
      "Requirement already satisfied: rioxarray in /home/jalmeida/.pyenv/versions/3.12.7/envs/sbsr/lib/python3.12/site-packages (from terratorch) (0.18.2)\n",
      "Requirement already satisfied: albumentations==1.4.6 in /home/jalmeida/.pyenv/versions/3.12.7/envs/sbsr/lib/python3.12/site-packages (from terratorch) (1.4.6)\n",
      "Requirement already satisfied: albucore==0.0.16 in /home/jalmeida/.pyenv/versions/3.12.7/envs/sbsr/lib/python3.12/site-packages (from terratorch) (0.0.16)\n",
      "Requirement already satisfied: rasterio in /home/jalmeida/.pyenv/versions/3.12.7/envs/sbsr/lib/python3.12/site-packages (from terratorch) (1.4.3)\n",
      "Requirement already satisfied: torchmetrics in /home/jalmeida/.pyenv/versions/3.12.7/envs/sbsr/lib/python3.12/site-packages (from terratorch) (1.7.0)\n",
      "Requirement already satisfied: geopandas in /home/jalmeida/.pyenv/versions/3.12.7/envs/sbsr/lib/python3.12/site-packages (from terratorch) (1.0.1)\n",
      "Requirement already satisfied: lightly in /home/jalmeida/.pyenv/versions/3.12.7/envs/sbsr/lib/python3.12/site-packages (from terratorch) (1.5.19)\n",
      "Requirement already satisfied: jsonargparse<=4.35.0 in /home/jalmeida/.pyenv/versions/3.12.7/envs/sbsr/lib/python3.12/site-packages (from terratorch) (4.35.0)\n",
      "Requirement already satisfied: h5py in /home/jalmeida/.pyenv/versions/3.12.7/envs/sbsr/lib/python3.12/site-packages (from terratorch) (3.13.0)\n",
      "Requirement already satisfied: mlflow in /home/jalmeida/.pyenv/versions/3.12.7/envs/sbsr/lib/python3.12/site-packages (from terratorch) (2.21.2)\n",
      "Requirement already satisfied: lightning in /home/jalmeida/.pyenv/versions/3.12.7/envs/sbsr/lib/python3.12/site-packages (from terratorch) (2.5.1)\n",
      "Requirement already satisfied: segmentation-models-pytorch in /home/jalmeida/.pyenv/versions/3.12.7/envs/sbsr/lib/python3.12/site-packages (from terratorch) (0.4.0)\n",
      "Requirement already satisfied: pytest in /home/jalmeida/.pyenv/versions/3.12.7/envs/sbsr/lib/python3.12/site-packages (from terratorch) (8.3.5)\n",
      "Requirement already satisfied: torchgeo in /home/jalmeida/.pyenv/versions/3.12.7/envs/sbsr/lib/python3.12/site-packages (from terratorch) (0.6.2)\n",
      "Requirement already satisfied: einops in /home/jalmeida/.pyenv/versions/3.12.7/envs/sbsr/lib/python3.12/site-packages (from terratorch) (0.8.1)\n",
      "Requirement already satisfied: timm>=1.0.15 in /home/jalmeida/.pyenv/versions/3.12.7/envs/sbsr/lib/python3.12/site-packages (from terratorch) (1.0.15)\n",
      "Requirement already satisfied: numpy>=1.24 in /home/jalmeida/.pyenv/versions/3.12.7/envs/sbsr/lib/python3.12/site-packages (from albucore==0.0.16->terratorch) (2.2.4)\n",
      "Requirement already satisfied: opencv-python-headless>=4.9.0.80 in /home/jalmeida/.pyenv/versions/3.12.7/envs/sbsr/lib/python3.12/site-packages (from albucore==0.0.16->terratorch) (4.11.0.86)\n",
      "Requirement already satisfied: scipy>=1.10.0 in /home/jalmeida/.pyenv/versions/3.12.7/envs/sbsr/lib/python3.12/site-packages (from albumentations==1.4.6->terratorch) (1.15.2)\n",
      "Requirement already satisfied: scikit-image>=0.21.0 in /home/jalmeida/.pyenv/versions/3.12.7/envs/sbsr/lib/python3.12/site-packages (from albumentations==1.4.6->terratorch) (0.25.2)\n",
      "Requirement already satisfied: PyYAML in /home/jalmeida/.pyenv/versions/3.12.7/envs/sbsr/lib/python3.12/site-packages (from albumentations==1.4.6->terratorch) (6.0.2)\n",
      "Requirement already satisfied: typing-extensions>=4.9.0 in /home/jalmeida/.pyenv/versions/3.12.7/envs/sbsr/lib/python3.12/site-packages (from albumentations==1.4.6->terratorch) (4.13.0)\n",
      "Requirement already satisfied: scikit-learn>=1.3.2 in /home/jalmeida/.pyenv/versions/3.12.7/envs/sbsr/lib/python3.12/site-packages (from albumentations==1.4.6->terratorch) (1.6.1)\n",
      "Requirement already satisfied: pydantic>=2.7.0 in /home/jalmeida/.pyenv/versions/3.12.7/envs/sbsr/lib/python3.12/site-packages (from albumentations==1.4.6->terratorch) (2.11.0)\n",
      "Requirement already satisfied: beautifulsoup4 in /home/jalmeida/.pyenv/versions/3.12.7/envs/sbsr/lib/python3.12/site-packages (from gdown) (4.13.3)\n",
      "Requirement already satisfied: filelock in /home/jalmeida/.pyenv/versions/3.12.7/envs/sbsr/lib/python3.12/site-packages (from gdown) (3.18.0)\n",
      "Requirement already satisfied: requests[socks] in /home/jalmeida/.pyenv/versions/3.12.7/envs/sbsr/lib/python3.12/site-packages (from gdown) (2.32.3)\n",
      "Requirement already satisfied: tqdm in /home/jalmeida/.pyenv/versions/3.12.7/envs/sbsr/lib/python3.12/site-packages (from gdown) (4.67.1)\n",
      "Requirement already satisfied: absl-py>=0.4 in /home/jalmeida/.pyenv/versions/3.12.7/envs/sbsr/lib/python3.12/site-packages (from tensorboard) (2.2.1)\n",
      "Requirement already satisfied: grpcio>=1.48.2 in /home/jalmeida/.pyenv/versions/3.12.7/envs/sbsr/lib/python3.12/site-packages (from tensorboard) (1.71.0)\n",
      "Requirement already satisfied: markdown>=2.6.8 in /home/jalmeida/.pyenv/versions/3.12.7/envs/sbsr/lib/python3.12/site-packages (from tensorboard) (3.7)\n",
      "Requirement already satisfied: packaging in /home/jalmeida/.pyenv/versions/3.12.7/envs/sbsr/lib/python3.12/site-packages (from tensorboard) (24.2)\n",
      "Requirement already satisfied: protobuf!=4.24.0,>=3.19.6 in /home/jalmeida/.pyenv/versions/3.12.7/envs/sbsr/lib/python3.12/site-packages (from tensorboard) (5.29.4)\n",
      "Requirement already satisfied: setuptools>=41.0.0 in /home/jalmeida/.pyenv/versions/3.12.7/envs/sbsr/lib/python3.12/site-packages (from tensorboard) (78.1.0)\n",
      "Requirement already satisfied: six>1.9 in /home/jalmeida/.pyenv/versions/3.12.7/envs/sbsr/lib/python3.12/site-packages (from tensorboard) (1.17.0)\n",
      "Requirement already satisfied: tensorboard-data-server<0.8.0,>=0.7.0 in /home/jalmeida/.pyenv/versions/3.12.7/envs/sbsr/lib/python3.12/site-packages (from tensorboard) (0.7.2)\n",
      "Requirement already satisfied: werkzeug>=1.0.1 in /home/jalmeida/.pyenv/versions/3.12.7/envs/sbsr/lib/python3.12/site-packages (from tensorboard) (3.1.3)\n",
      "Requirement already satisfied: huggingface_hub in /home/jalmeida/.pyenv/versions/3.12.7/envs/sbsr/lib/python3.12/site-packages (from timm>=1.0.15->terratorch) (0.29.3)\n",
      "Requirement already satisfied: safetensors in /home/jalmeida/.pyenv/versions/3.12.7/envs/sbsr/lib/python3.12/site-packages (from timm>=1.0.15->terratorch) (0.5.3)\n",
      "Requirement already satisfied: MarkupSafe>=2.1.1 in /home/jalmeida/.pyenv/versions/3.12.7/envs/sbsr/lib/python3.12/site-packages (from werkzeug>=1.0.1->tensorboard) (3.0.2)\n",
      "Requirement already satisfied: soupsieve>1.2 in /home/jalmeida/.pyenv/versions/3.12.7/envs/sbsr/lib/python3.12/site-packages (from beautifulsoup4->gdown) (2.6)\n",
      "Requirement already satisfied: pyogrio>=0.7.2 in /home/jalmeida/.pyenv/versions/3.12.7/envs/sbsr/lib/python3.12/site-packages (from geopandas->terratorch) (0.10.0)\n",
      "Requirement already satisfied: pandas>=1.4.0 in /home/jalmeida/.pyenv/versions/3.12.7/envs/sbsr/lib/python3.12/site-packages (from geopandas->terratorch) (2.2.3)\n",
      "Requirement already satisfied: pyproj>=3.3.0 in /home/jalmeida/.pyenv/versions/3.12.7/envs/sbsr/lib/python3.12/site-packages (from geopandas->terratorch) (3.7.1)\n",
      "Requirement already satisfied: shapely>=2.0.0 in /home/jalmeida/.pyenv/versions/3.12.7/envs/sbsr/lib/python3.12/site-packages (from geopandas->terratorch) (2.0.7)\n",
      "Requirement already satisfied: certifi>=14.05.14 in /home/jalmeida/.pyenv/versions/3.12.7/envs/sbsr/lib/python3.12/site-packages (from lightly->terratorch) (2025.1.31)\n",
      "Requirement already satisfied: hydra-core>=1.0.0 in /home/jalmeida/.pyenv/versions/3.12.7/envs/sbsr/lib/python3.12/site-packages (from lightly->terratorch) (1.3.2)\n",
      "Requirement already satisfied: lightly_utils~=0.0.0 in /home/jalmeida/.pyenv/versions/3.12.7/envs/sbsr/lib/python3.12/site-packages (from lightly->terratorch) (0.0.2)\n",
      "Requirement already satisfied: python_dateutil>=2.5.3 in /home/jalmeida/.pyenv/versions/3.12.7/envs/sbsr/lib/python3.12/site-packages (from lightly->terratorch) (2.9.0.post0)\n",
      "Requirement already satisfied: pytorch_lightning>=1.0.4 in /home/jalmeida/.pyenv/versions/3.12.7/envs/sbsr/lib/python3.12/site-packages (from lightly->terratorch) (2.5.1)\n",
      "Requirement already satisfied: urllib3>=1.25.3 in /home/jalmeida/.pyenv/versions/3.12.7/envs/sbsr/lib/python3.12/site-packages (from lightly->terratorch) (2.3.0)\n",
      "Requirement already satisfied: aenum>=3.1.11 in /home/jalmeida/.pyenv/versions/3.12.7/envs/sbsr/lib/python3.12/site-packages (from lightly->terratorch) (3.1.15)\n",
      "Requirement already satisfied: fsspec<2026.0,>=2022.5.0 in /home/jalmeida/.pyenv/versions/3.12.7/envs/sbsr/lib/python3.12/site-packages (from fsspec[http]<2026.0,>=2022.5.0->lightning->terratorch) (2025.3.0)\n",
      "Requirement already satisfied: lightning-utilities<2.0,>=0.10.0 in /home/jalmeida/.pyenv/versions/3.12.7/envs/sbsr/lib/python3.12/site-packages (from lightning->terratorch) (0.14.2)\n",
      "Requirement already satisfied: networkx in /home/jalmeida/.pyenv/versions/3.12.7/envs/sbsr/lib/python3.12/site-packages (from torch->terratorch) (3.4.2)\n",
      "Requirement already satisfied: jinja2 in /home/jalmeida/.pyenv/versions/3.12.7/envs/sbsr/lib/python3.12/site-packages (from torch->terratorch) (3.1.6)\n",
      "Requirement already satisfied: nvidia-cuda-nvrtc-cu12==12.4.127 in /home/jalmeida/.pyenv/versions/3.12.7/envs/sbsr/lib/python3.12/site-packages (from torch->terratorch) (12.4.127)\n",
      "Requirement already satisfied: nvidia-cuda-runtime-cu12==12.4.127 in /home/jalmeida/.pyenv/versions/3.12.7/envs/sbsr/lib/python3.12/site-packages (from torch->terratorch) (12.4.127)\n",
      "Requirement already satisfied: nvidia-cuda-cupti-cu12==12.4.127 in /home/jalmeida/.pyenv/versions/3.12.7/envs/sbsr/lib/python3.12/site-packages (from torch->terratorch) (12.4.127)\n",
      "Requirement already satisfied: nvidia-cudnn-cu12==9.1.0.70 in /home/jalmeida/.pyenv/versions/3.12.7/envs/sbsr/lib/python3.12/site-packages (from torch->terratorch) (9.1.0.70)\n",
      "Requirement already satisfied: nvidia-cublas-cu12==12.4.5.8 in /home/jalmeida/.pyenv/versions/3.12.7/envs/sbsr/lib/python3.12/site-packages (from torch->terratorch) (12.4.5.8)\n",
      "Requirement already satisfied: nvidia-cufft-cu12==11.2.1.3 in /home/jalmeida/.pyenv/versions/3.12.7/envs/sbsr/lib/python3.12/site-packages (from torch->terratorch) (11.2.1.3)\n",
      "Requirement already satisfied: nvidia-curand-cu12==10.3.5.147 in /home/jalmeida/.pyenv/versions/3.12.7/envs/sbsr/lib/python3.12/site-packages (from torch->terratorch) (10.3.5.147)\n",
      "Requirement already satisfied: nvidia-cusolver-cu12==11.6.1.9 in /home/jalmeida/.pyenv/versions/3.12.7/envs/sbsr/lib/python3.12/site-packages (from torch->terratorch) (11.6.1.9)\n",
      "Requirement already satisfied: nvidia-cusparse-cu12==12.3.1.170 in /home/jalmeida/.pyenv/versions/3.12.7/envs/sbsr/lib/python3.12/site-packages (from torch->terratorch) (12.3.1.170)\n",
      "Requirement already satisfied: nvidia-cusparselt-cu12==0.6.2 in /home/jalmeida/.pyenv/versions/3.12.7/envs/sbsr/lib/python3.12/site-packages (from torch->terratorch) (0.6.2)\n",
      "Requirement already satisfied: nvidia-nccl-cu12==2.21.5 in /home/jalmeida/.pyenv/versions/3.12.7/envs/sbsr/lib/python3.12/site-packages (from torch->terratorch) (2.21.5)\n",
      "Requirement already satisfied: nvidia-nvtx-cu12==12.4.127 in /home/jalmeida/.pyenv/versions/3.12.7/envs/sbsr/lib/python3.12/site-packages (from torch->terratorch) (12.4.127)\n",
      "Requirement already satisfied: nvidia-nvjitlink-cu12==12.4.127 in /home/jalmeida/.pyenv/versions/3.12.7/envs/sbsr/lib/python3.12/site-packages (from torch->terratorch) (12.4.127)\n",
      "Requirement already satisfied: triton==3.2.0 in /home/jalmeida/.pyenv/versions/3.12.7/envs/sbsr/lib/python3.12/site-packages (from torch->terratorch) (3.2.0)\n",
      "Requirement already satisfied: sympy==1.13.1 in /home/jalmeida/.pyenv/versions/3.12.7/envs/sbsr/lib/python3.12/site-packages (from torch->terratorch) (1.13.1)\n",
      "Requirement already satisfied: mpmath<1.4,>=1.1.0 in /home/jalmeida/.pyenv/versions/3.12.7/envs/sbsr/lib/python3.12/site-packages (from sympy==1.13.1->torch->terratorch) (1.3.0)\n",
      "Requirement already satisfied: mlflow-skinny==2.21.2 in /home/jalmeida/.pyenv/versions/3.12.7/envs/sbsr/lib/python3.12/site-packages (from mlflow->terratorch) (2.21.2)\n",
      "Requirement already satisfied: Flask<4 in /home/jalmeida/.pyenv/versions/3.12.7/envs/sbsr/lib/python3.12/site-packages (from mlflow->terratorch) (3.1.0)\n",
      "Requirement already satisfied: alembic!=1.10.0,<2 in /home/jalmeida/.pyenv/versions/3.12.7/envs/sbsr/lib/python3.12/site-packages (from mlflow->terratorch) (1.15.2)\n",
      "Requirement already satisfied: docker<8,>=4.0.0 in /home/jalmeida/.pyenv/versions/3.12.7/envs/sbsr/lib/python3.12/site-packages (from mlflow->terratorch) (7.1.0)\n",
      "Requirement already satisfied: graphene<4 in /home/jalmeida/.pyenv/versions/3.12.7/envs/sbsr/lib/python3.12/site-packages (from mlflow->terratorch) (3.4.3)\n",
      "Requirement already satisfied: gunicorn<24 in /home/jalmeida/.pyenv/versions/3.12.7/envs/sbsr/lib/python3.12/site-packages (from mlflow->terratorch) (23.0.0)\n",
      "Requirement already satisfied: matplotlib<4 in /home/jalmeida/.pyenv/versions/3.12.7/envs/sbsr/lib/python3.12/site-packages (from mlflow->terratorch) (3.10.1)\n",
      "Requirement already satisfied: pyarrow<20,>=4.0.0 in /home/jalmeida/.pyenv/versions/3.12.7/envs/sbsr/lib/python3.12/site-packages (from mlflow->terratorch) (19.0.1)\n",
      "Requirement already satisfied: sqlalchemy<3,>=1.4.0 in /home/jalmeida/.pyenv/versions/3.12.7/envs/sbsr/lib/python3.12/site-packages (from mlflow->terratorch) (2.0.40)\n",
      "Requirement already satisfied: cachetools<6,>=5.0.0 in /home/jalmeida/.pyenv/versions/3.12.7/envs/sbsr/lib/python3.12/site-packages (from mlflow-skinny==2.21.2->mlflow->terratorch) (5.5.2)\n",
      "Requirement already satisfied: click<9,>=7.0 in /home/jalmeida/.pyenv/versions/3.12.7/envs/sbsr/lib/python3.12/site-packages (from mlflow-skinny==2.21.2->mlflow->terratorch) (8.1.8)\n",
      "Requirement already satisfied: cloudpickle<4 in /home/jalmeida/.pyenv/versions/3.12.7/envs/sbsr/lib/python3.12/site-packages (from mlflow-skinny==2.21.2->mlflow->terratorch) (3.1.1)\n",
      "Requirement already satisfied: databricks-sdk<1,>=0.20.0 in /home/jalmeida/.pyenv/versions/3.12.7/envs/sbsr/lib/python3.12/site-packages (from mlflow-skinny==2.21.2->mlflow->terratorch) (0.49.0)\n",
      "Requirement already satisfied: fastapi<1 in /home/jalmeida/.pyenv/versions/3.12.7/envs/sbsr/lib/python3.12/site-packages (from mlflow-skinny==2.21.2->mlflow->terratorch) (0.115.12)\n",
      "Requirement already satisfied: gitpython<4,>=3.1.9 in /home/jalmeida/.pyenv/versions/3.12.7/envs/sbsr/lib/python3.12/site-packages (from mlflow-skinny==2.21.2->mlflow->terratorch) (3.1.44)\n",
      "Requirement already satisfied: importlib_metadata!=4.7.0,<9,>=3.7.0 in /home/jalmeida/.pyenv/versions/3.12.7/envs/sbsr/lib/python3.12/site-packages (from mlflow-skinny==2.21.2->mlflow->terratorch) (8.6.1)\n",
      "Requirement already satisfied: opentelemetry-api<3,>=1.9.0 in /home/jalmeida/.pyenv/versions/3.12.7/envs/sbsr/lib/python3.12/site-packages (from mlflow-skinny==2.21.2->mlflow->terratorch) (1.31.1)\n",
      "Requirement already satisfied: opentelemetry-sdk<3,>=1.9.0 in /home/jalmeida/.pyenv/versions/3.12.7/envs/sbsr/lib/python3.12/site-packages (from mlflow-skinny==2.21.2->mlflow->terratorch) (1.31.1)\n",
      "Requirement already satisfied: sqlparse<1,>=0.4.0 in /home/jalmeida/.pyenv/versions/3.12.7/envs/sbsr/lib/python3.12/site-packages (from mlflow-skinny==2.21.2->mlflow->terratorch) (0.5.3)\n",
      "Requirement already satisfied: uvicorn<1 in /home/jalmeida/.pyenv/versions/3.12.7/envs/sbsr/lib/python3.12/site-packages (from mlflow-skinny==2.21.2->mlflow->terratorch) (0.34.0)\n",
      "Requirement already satisfied: iniconfig in /home/jalmeida/.pyenv/versions/3.12.7/envs/sbsr/lib/python3.12/site-packages (from pytest->terratorch) (2.1.0)\n",
      "Requirement already satisfied: pluggy<2,>=1.5 in /home/jalmeida/.pyenv/versions/3.12.7/envs/sbsr/lib/python3.12/site-packages (from pytest->terratorch) (1.5.0)\n",
      "Requirement already satisfied: affine in /home/jalmeida/.pyenv/versions/3.12.7/envs/sbsr/lib/python3.12/site-packages (from rasterio->terratorch) (2.4.0)\n",
      "Requirement already satisfied: attrs in /home/jalmeida/.pyenv/versions/3.12.7/envs/sbsr/lib/python3.12/site-packages (from rasterio->terratorch) (25.3.0)\n",
      "Requirement already satisfied: cligj>=0.5 in /home/jalmeida/.pyenv/versions/3.12.7/envs/sbsr/lib/python3.12/site-packages (from rasterio->terratorch) (0.7.2)\n",
      "Requirement already satisfied: click-plugins in /home/jalmeida/.pyenv/versions/3.12.7/envs/sbsr/lib/python3.12/site-packages (from rasterio->terratorch) (1.1.1)\n",
      "Requirement already satisfied: pyparsing in /home/jalmeida/.pyenv/versions/3.12.7/envs/sbsr/lib/python3.12/site-packages (from rasterio->terratorch) (3.2.3)\n",
      "Requirement already satisfied: charset-normalizer<4,>=2 in /home/jalmeida/.pyenv/versions/3.12.7/envs/sbsr/lib/python3.12/site-packages (from requests[socks]->gdown) (3.4.1)\n",
      "Requirement already satisfied: idna<4,>=2.5 in /home/jalmeida/.pyenv/versions/3.12.7/envs/sbsr/lib/python3.12/site-packages (from requests[socks]->gdown) (3.10)\n",
      "Requirement already satisfied: PySocks!=1.5.7,>=1.5.6 in /home/jalmeida/.pyenv/versions/3.12.7/envs/sbsr/lib/python3.12/site-packages (from requests[socks]->gdown) (1.7.1)\n",
      "Requirement already satisfied: xarray>=2024.7.0 in /home/jalmeida/.pyenv/versions/3.12.7/envs/sbsr/lib/python3.12/site-packages (from rioxarray->terratorch) (2025.3.0)\n",
      "Requirement already satisfied: efficientnet-pytorch>=0.6.1 in /home/jalmeida/.pyenv/versions/3.12.7/envs/sbsr/lib/python3.12/site-packages (from segmentation-models-pytorch->terratorch) (0.7.1)\n",
      "Requirement already satisfied: pillow>=8 in /home/jalmeida/.pyenv/versions/3.12.7/envs/sbsr/lib/python3.12/site-packages (from segmentation-models-pytorch->terratorch) (11.1.0)\n",
      "Requirement already satisfied: pretrainedmodels>=0.7.1 in /home/jalmeida/.pyenv/versions/3.12.7/envs/sbsr/lib/python3.12/site-packages (from segmentation-models-pytorch->terratorch) (0.7.4)\n",
      "Requirement already satisfied: fiona>=1.8.21 in /home/jalmeida/.pyenv/versions/3.12.7/envs/sbsr/lib/python3.12/site-packages (from torchgeo->terratorch) (1.10.1)\n",
      "Requirement already satisfied: kornia>=0.7.3 in /home/jalmeida/.pyenv/versions/3.12.7/envs/sbsr/lib/python3.12/site-packages (from torchgeo->terratorch) (0.8.0)\n",
      "Requirement already satisfied: rtree>=1 in /home/jalmeida/.pyenv/versions/3.12.7/envs/sbsr/lib/python3.12/site-packages (from torchgeo->terratorch) (1.4.0)\n",
      "Requirement already satisfied: Mako in /home/jalmeida/.pyenv/versions/3.12.7/envs/sbsr/lib/python3.12/site-packages (from alembic!=1.10.0,<2->mlflow->terratorch) (1.3.9)\n",
      "Requirement already satisfied: itsdangerous>=2.2 in /home/jalmeida/.pyenv/versions/3.12.7/envs/sbsr/lib/python3.12/site-packages (from Flask<4->mlflow->terratorch) (2.2.0)\n",
      "Requirement already satisfied: blinker>=1.9 in /home/jalmeida/.pyenv/versions/3.12.7/envs/sbsr/lib/python3.12/site-packages (from Flask<4->mlflow->terratorch) (1.9.0)\n",
      "Requirement already satisfied: aiohttp!=4.0.0a0,!=4.0.0a1 in /home/jalmeida/.pyenv/versions/3.12.7/envs/sbsr/lib/python3.12/site-packages (from fsspec[http]<2026.0,>=2022.5.0->lightning->terratorch) (3.11.14)\n",
      "Requirement already satisfied: graphql-core<3.3,>=3.1 in /home/jalmeida/.pyenv/versions/3.12.7/envs/sbsr/lib/python3.12/site-packages (from graphene<4->mlflow->terratorch) (3.2.6)\n",
      "Requirement already satisfied: graphql-relay<3.3,>=3.1 in /home/jalmeida/.pyenv/versions/3.12.7/envs/sbsr/lib/python3.12/site-packages (from graphene<4->mlflow->terratorch) (3.2.0)\n",
      "Requirement already satisfied: omegaconf<2.4,>=2.2 in /home/jalmeida/.pyenv/versions/3.12.7/envs/sbsr/lib/python3.12/site-packages (from hydra-core>=1.0.0->lightly->terratorch) (2.3.0)\n",
      "Requirement already satisfied: antlr4-python3-runtime==4.9.* in /home/jalmeida/.pyenv/versions/3.12.7/envs/sbsr/lib/python3.12/site-packages (from hydra-core>=1.0.0->lightly->terratorch) (4.9.3)\n",
      "Requirement already satisfied: kornia_rs>=0.1.0 in /home/jalmeida/.pyenv/versions/3.12.7/envs/sbsr/lib/python3.12/site-packages (from kornia>=0.7.3->torchgeo->terratorch) (0.1.8)\n",
      "Requirement already satisfied: rich<14.0,>=12.3.0 in /home/jalmeida/.pyenv/versions/3.12.7/envs/sbsr/lib/python3.12/site-packages (from lightning[pytorch-extra]!=2.3.*,>=2->torchgeo->terratorch) (13.9.4)\n",
      "Requirement already satisfied: tensorboardX<3.0,>=2.2 in /home/jalmeida/.pyenv/versions/3.12.7/envs/sbsr/lib/python3.12/site-packages (from lightning[pytorch-extra]!=2.3.*,>=2->torchgeo->terratorch) (2.6.2.2)\n",
      "Requirement already satisfied: bitsandbytes<1.0,>=0.45.2 in /home/jalmeida/.pyenv/versions/3.12.7/envs/sbsr/lib/python3.12/site-packages (from lightning[pytorch-extra]!=2.3.*,>=2->torchgeo->terratorch) (0.45.4)\n",
      "Requirement already satisfied: contourpy>=1.0.1 in /home/jalmeida/.pyenv/versions/3.12.7/envs/sbsr/lib/python3.12/site-packages (from matplotlib<4->mlflow->terratorch) (1.3.1)\n",
      "Requirement already satisfied: cycler>=0.10 in /home/jalmeida/.pyenv/versions/3.12.7/envs/sbsr/lib/python3.12/site-packages (from matplotlib<4->mlflow->terratorch) (0.12.1)\n",
      "Requirement already satisfied: fonttools>=4.22.0 in /home/jalmeida/.pyenv/versions/3.12.7/envs/sbsr/lib/python3.12/site-packages (from matplotlib<4->mlflow->terratorch) (4.56.0)\n",
      "Requirement already satisfied: kiwisolver>=1.3.1 in /home/jalmeida/.pyenv/versions/3.12.7/envs/sbsr/lib/python3.12/site-packages (from matplotlib<4->mlflow->terratorch) (1.4.8)\n",
      "Requirement already satisfied: pytz>=2020.1 in /home/jalmeida/.pyenv/versions/3.12.7/envs/sbsr/lib/python3.12/site-packages (from pandas>=1.4.0->geopandas->terratorch) (2025.2)\n",
      "Requirement already satisfied: tzdata>=2022.7 in /home/jalmeida/.pyenv/versions/3.12.7/envs/sbsr/lib/python3.12/site-packages (from pandas>=1.4.0->geopandas->terratorch) (2025.2)\n",
      "Requirement already satisfied: munch in /home/jalmeida/.pyenv/versions/3.12.7/envs/sbsr/lib/python3.12/site-packages (from pretrainedmodels>=0.7.1->segmentation-models-pytorch->terratorch) (4.0.0)\n",
      "Requirement already satisfied: annotated-types>=0.6.0 in /home/jalmeida/.pyenv/versions/3.12.7/envs/sbsr/lib/python3.12/site-packages (from pydantic>=2.7.0->albumentations==1.4.6->terratorch) (0.7.0)\n",
      "Requirement already satisfied: pydantic-core==2.33.0 in /home/jalmeida/.pyenv/versions/3.12.7/envs/sbsr/lib/python3.12/site-packages (from pydantic>=2.7.0->albumentations==1.4.6->terratorch) (2.33.0)\n",
      "Requirement already satisfied: typing-inspection>=0.4.0 in /home/jalmeida/.pyenv/versions/3.12.7/envs/sbsr/lib/python3.12/site-packages (from pydantic>=2.7.0->albumentations==1.4.6->terratorch) (0.4.0)\n",
      "Requirement already satisfied: imageio!=2.35.0,>=2.33 in /home/jalmeida/.pyenv/versions/3.12.7/envs/sbsr/lib/python3.12/site-packages (from scikit-image>=0.21.0->albumentations==1.4.6->terratorch) (2.37.0)\n",
      "Requirement already satisfied: tifffile>=2022.8.12 in /home/jalmeida/.pyenv/versions/3.12.7/envs/sbsr/lib/python3.12/site-packages (from scikit-image>=0.21.0->albumentations==1.4.6->terratorch) (2025.3.13)\n",
      "Requirement already satisfied: lazy-loader>=0.4 in /home/jalmeida/.pyenv/versions/3.12.7/envs/sbsr/lib/python3.12/site-packages (from scikit-image>=0.21.0->albumentations==1.4.6->terratorch) (0.4)\n",
      "Requirement already satisfied: joblib>=1.2.0 in /home/jalmeida/.pyenv/versions/3.12.7/envs/sbsr/lib/python3.12/site-packages (from scikit-learn>=1.3.2->albumentations==1.4.6->terratorch) (1.4.2)\n",
      "Requirement already satisfied: threadpoolctl>=3.1.0 in /home/jalmeida/.pyenv/versions/3.12.7/envs/sbsr/lib/python3.12/site-packages (from scikit-learn>=1.3.2->albumentations==1.4.6->terratorch) (3.6.0)\n",
      "Requirement already satisfied: greenlet>=1 in /home/jalmeida/.pyenv/versions/3.12.7/envs/sbsr/lib/python3.12/site-packages (from sqlalchemy<3,>=1.4.0->mlflow->terratorch) (3.1.1)\n",
      "Requirement already satisfied: aiohappyeyeballs>=2.3.0 in /home/jalmeida/.pyenv/versions/3.12.7/envs/sbsr/lib/python3.12/site-packages (from aiohttp!=4.0.0a0,!=4.0.0a1->fsspec[http]<2026.0,>=2022.5.0->lightning->terratorch) (2.6.1)\n",
      "Requirement already satisfied: aiosignal>=1.1.2 in /home/jalmeida/.pyenv/versions/3.12.7/envs/sbsr/lib/python3.12/site-packages (from aiohttp!=4.0.0a0,!=4.0.0a1->fsspec[http]<2026.0,>=2022.5.0->lightning->terratorch) (1.3.2)\n",
      "Requirement already satisfied: frozenlist>=1.1.1 in /home/jalmeida/.pyenv/versions/3.12.7/envs/sbsr/lib/python3.12/site-packages (from aiohttp!=4.0.0a0,!=4.0.0a1->fsspec[http]<2026.0,>=2022.5.0->lightning->terratorch) (1.5.0)\n",
      "Requirement already satisfied: multidict<7.0,>=4.5 in /home/jalmeida/.pyenv/versions/3.12.7/envs/sbsr/lib/python3.12/site-packages (from aiohttp!=4.0.0a0,!=4.0.0a1->fsspec[http]<2026.0,>=2022.5.0->lightning->terratorch) (6.2.0)\n",
      "Requirement already satisfied: propcache>=0.2.0 in /home/jalmeida/.pyenv/versions/3.12.7/envs/sbsr/lib/python3.12/site-packages (from aiohttp!=4.0.0a0,!=4.0.0a1->fsspec[http]<2026.0,>=2022.5.0->lightning->terratorch) (0.3.1)\n",
      "Requirement already satisfied: yarl<2.0,>=1.17.0 in /home/jalmeida/.pyenv/versions/3.12.7/envs/sbsr/lib/python3.12/site-packages (from aiohttp!=4.0.0a0,!=4.0.0a1->fsspec[http]<2026.0,>=2022.5.0->lightning->terratorch) (1.18.3)\n",
      "Requirement already satisfied: google-auth~=2.0 in /home/jalmeida/.pyenv/versions/3.12.7/envs/sbsr/lib/python3.12/site-packages (from databricks-sdk<1,>=0.20.0->mlflow-skinny==2.21.2->mlflow->terratorch) (2.38.0)\n",
      "Requirement already satisfied: starlette<0.47.0,>=0.40.0 in /home/jalmeida/.pyenv/versions/3.12.7/envs/sbsr/lib/python3.12/site-packages (from fastapi<1->mlflow-skinny==2.21.2->mlflow->terratorch) (0.46.1)\n",
      "Requirement already satisfied: gitdb<5,>=4.0.1 in /home/jalmeida/.pyenv/versions/3.12.7/envs/sbsr/lib/python3.12/site-packages (from gitpython<4,>=3.1.9->mlflow-skinny==2.21.2->mlflow->terratorch) (4.0.12)\n",
      "Requirement already satisfied: zipp>=3.20 in /home/jalmeida/.pyenv/versions/3.12.7/envs/sbsr/lib/python3.12/site-packages (from importlib_metadata!=4.7.0,<9,>=3.7.0->mlflow-skinny==2.21.2->mlflow->terratorch) (3.21.0)\n",
      "Requirement already satisfied: docstring-parser>=0.15 in /home/jalmeida/.pyenv/versions/3.12.7/envs/sbsr/lib/python3.12/site-packages (from jsonargparse[signatures]<5.0,>=4.27.7; extra == \"pytorch-extra\"->lightning[pytorch-extra]!=2.3.*,>=2->torchgeo->terratorch) (0.16)\n",
      "Requirement already satisfied: typeshed-client>=2.1.0 in /home/jalmeida/.pyenv/versions/3.12.7/envs/sbsr/lib/python3.12/site-packages (from jsonargparse[signatures]<5.0,>=4.27.7; extra == \"pytorch-extra\"->lightning[pytorch-extra]!=2.3.*,>=2->torchgeo->terratorch) (2.7.0)\n",
      "Requirement already satisfied: deprecated>=1.2.6 in /home/jalmeida/.pyenv/versions/3.12.7/envs/sbsr/lib/python3.12/site-packages (from opentelemetry-api<3,>=1.9.0->mlflow-skinny==2.21.2->mlflow->terratorch) (1.2.18)\n",
      "Requirement already satisfied: opentelemetry-semantic-conventions==0.52b1 in /home/jalmeida/.pyenv/versions/3.12.7/envs/sbsr/lib/python3.12/site-packages (from opentelemetry-sdk<3,>=1.9.0->mlflow-skinny==2.21.2->mlflow->terratorch) (0.52b1)\n",
      "Requirement already satisfied: markdown-it-py>=2.2.0 in /home/jalmeida/.pyenv/versions/3.12.7/envs/sbsr/lib/python3.12/site-packages (from rich<14.0,>=12.3.0->lightning[pytorch-extra]!=2.3.*,>=2->torchgeo->terratorch) (3.0.0)\n",
      "Requirement already satisfied: pygments<3.0.0,>=2.13.0 in /home/jalmeida/.pyenv/versions/3.12.7/envs/sbsr/lib/python3.12/site-packages (from rich<14.0,>=12.3.0->lightning[pytorch-extra]!=2.3.*,>=2->torchgeo->terratorch) (2.19.1)\n",
      "Requirement already satisfied: h11>=0.8 in /home/jalmeida/.pyenv/versions/3.12.7/envs/sbsr/lib/python3.12/site-packages (from uvicorn<1->mlflow-skinny==2.21.2->mlflow->terratorch) (0.14.0)\n",
      "Requirement already satisfied: wrapt<2,>=1.10 in /home/jalmeida/.pyenv/versions/3.12.7/envs/sbsr/lib/python3.12/site-packages (from deprecated>=1.2.6->opentelemetry-api<3,>=1.9.0->mlflow-skinny==2.21.2->mlflow->terratorch) (1.17.2)\n",
      "Requirement already satisfied: smmap<6,>=3.0.1 in /home/jalmeida/.pyenv/versions/3.12.7/envs/sbsr/lib/python3.12/site-packages (from gitdb<5,>=4.0.1->gitpython<4,>=3.1.9->mlflow-skinny==2.21.2->mlflow->terratorch) (5.0.2)\n",
      "Requirement already satisfied: pyasn1-modules>=0.2.1 in /home/jalmeida/.pyenv/versions/3.12.7/envs/sbsr/lib/python3.12/site-packages (from google-auth~=2.0->databricks-sdk<1,>=0.20.0->mlflow-skinny==2.21.2->mlflow->terratorch) (0.4.2)\n",
      "Requirement already satisfied: rsa<5,>=3.1.4 in /home/jalmeida/.pyenv/versions/3.12.7/envs/sbsr/lib/python3.12/site-packages (from google-auth~=2.0->databricks-sdk<1,>=0.20.0->mlflow-skinny==2.21.2->mlflow->terratorch) (4.9)\n",
      "Requirement already satisfied: mdurl~=0.1 in /home/jalmeida/.pyenv/versions/3.12.7/envs/sbsr/lib/python3.12/site-packages (from markdown-it-py>=2.2.0->rich<14.0,>=12.3.0->lightning[pytorch-extra]!=2.3.*,>=2->torchgeo->terratorch) (0.1.2)\n",
      "Requirement already satisfied: anyio<5,>=3.6.2 in /home/jalmeida/.pyenv/versions/3.12.7/envs/sbsr/lib/python3.12/site-packages (from starlette<0.47.0,>=0.40.0->fastapi<1->mlflow-skinny==2.21.2->mlflow->terratorch) (4.9.0)\n",
      "Requirement already satisfied: importlib-resources>=1.4.0 in /home/jalmeida/.pyenv/versions/3.12.7/envs/sbsr/lib/python3.12/site-packages (from typeshed-client>=2.1.0->jsonargparse[signatures]<5.0,>=4.27.7; extra == \"pytorch-extra\"->lightning[pytorch-extra]!=2.3.*,>=2->torchgeo->terratorch) (6.5.2)\n",
      "Requirement already satisfied: sniffio>=1.1 in /home/jalmeida/.pyenv/versions/3.12.7/envs/sbsr/lib/python3.12/site-packages (from anyio<5,>=3.6.2->starlette<0.47.0,>=0.40.0->fastapi<1->mlflow-skinny==2.21.2->mlflow->terratorch) (1.3.1)\n",
      "Requirement already satisfied: pyasn1<0.7.0,>=0.6.1 in /home/jalmeida/.pyenv/versions/3.12.7/envs/sbsr/lib/python3.12/site-packages (from pyasn1-modules>=0.2.1->google-auth~=2.0->databricks-sdk<1,>=0.20.0->mlflow-skinny==2.21.2->mlflow->terratorch) (0.6.1)\n",
      "\n",
      "\u001b[1m[\u001b[0m\u001b[34;49mnotice\u001b[0m\u001b[1;39;49m]\u001b[0m\u001b[39;49m A new release of pip is available: \u001b[0m\u001b[31;49m24.2\u001b[0m\u001b[39;49m -> \u001b[0m\u001b[32;49m25.0.1\u001b[0m\n",
      "\u001b[1m[\u001b[0m\u001b[34;49mnotice\u001b[0m\u001b[1;39;49m]\u001b[0m\u001b[39;49m To update, run: \u001b[0m\u001b[32;49mpython -m pip install --upgrade pip\u001b[0m\n"
     ]
    }
   ],
   "source": [
    "!pip install terratorch gdown tensorboard"
   ]
  },
  {
   "cell_type": "code",
   "execution_count": null,
   "id": "2e8c1961-311b-49e0-b6ea-2867b44cb47a",
   "metadata": {
    "id": "2e8c1961-311b-49e0-b6ea-2867b44cb47a"
   },
   "outputs": [
    {
     "name": "stderr",
     "output_type": "stream",
     "text": [
      "/home/jalmeida/.pyenv/versions/3.12.7/envs/sbsr/lib/python3.12/site-packages/tqdm/auto.py:21: TqdmWarning: IProgress not found. Please update jupyter and ipywidgets. See https://ipywidgets.readthedocs.io/en/stable/user_install.html\n",
      "  from .autonotebook import tqdm as notebook_tqdm\n"
     ]
    }
   ],
   "source": [
    "import os\n",
    "import sys\n",
    "import torch\n",
    "import gdown\n",
    "import terratorch\n",
    "import albumentations\n",
    "import lightning.pytorch as pl\n",
    "import matplotlib.pyplot as plt\n",
    "from pathlib import Path\n",
    "from terratorch.datamodules import GenericNonGeoSegmentationDataModule"
   ]
  },
  {
   "cell_type": "markdown",
   "id": "917b65b8e7cd7d65",
   "metadata": {},
   "source": [
    "3. Download the dataset from Google Drive"
   ]
  },
  {
   "cell_type": "code",
   "execution_count": null,
   "id": "dw5-9A4A4OmI",
   "metadata": {
    "collapsed": true,
    "id": "dw5-9A4A4OmI",
    "jupyter": {
     "outputs_hidden": true
    }
   },
   "outputs": [],
   "source": [
    "if not os.path.isfile('sen1floods11_v1.1.tar.gz'):\n",
    "    !gdown.download(\"https://drive.google.com/uc?id=1lRw3X7oFNq_WyzBO6uyUJijyTuYm23VS\")\n",
    "    !tar -xzvf sen1floods11_v1.1.tar.gz"
   ]
  },
  {
   "cell_type": "markdown",
   "id": "35ba4d58-8ff6-4f9c-bfb1-a70376f80494",
   "metadata": {
    "id": "35ba4d58-8ff6-4f9c-bfb1-a70376f80494"
   },
   "source": [
    "## Sen1Floods11 Dataset\n",
    "\n",
    "Lets start with analysing the dataset"
   ]
  },
  {
   "cell_type": "code",
   "execution_count": null,
   "id": "e3854bdb-17a4-43c8-bfa8-822b44fd59c3",
   "metadata": {
    "id": "e3854bdb-17a4-43c8-bfa8-822b44fd59c3"
   },
   "outputs": [],
   "source": [
    "dataset_path = Path('sen1floods11_v1.1')\n",
    "!ls \"sen1floods11_v1.1/data\""
   ]
  },
  {
   "cell_type": "code",
   "execution_count": null,
   "id": "87d91245594c607d",
   "metadata": {},
   "outputs": [],
   "source": [
    "!ls \"sen1floods11_v1.1/data/S2L1CHand/\" | head"
   ]
  },
  {
   "cell_type": "code",
   "execution_count": null,
   "id": "735803b1-a4bf-427f-a1e6-5ac755af33fc",
   "metadata": {
    "id": "735803b1-a4bf-427f-a1e6-5ac755af33fc"
   },
   "outputs": [],
   "source": [
    "# TerraTorch provides generic data modules that work directly with PyTorch Lightning\n",
    "datamodule = terratorch.datamodules.GenericNonGeoSegmentationDataModule(\n",
    "    batch_size=8,\n",
    "    num_workers=2,\n",
    "    num_classes=2,\n",
    "\n",
    "    # Define data paths\n",
    "    train_data_root=dataset_path / 'data/S2L1CHand',\n",
    "    train_label_data_root=dataset_path / 'data/LabelHand',\n",
    "    val_data_root=dataset_path / 'data/S2L1CHand',\n",
    "    val_label_data_root=dataset_path / 'data/LabelHand',\n",
    "    test_data_root=dataset_path / 'data/S2L1CHand',\n",
    "    test_label_data_root=dataset_path / 'data/LabelHand',\n",
    "\n",
    "    # Define splits as all samples are saved in the same folder\n",
    "    train_split=dataset_path / 'splits/flood_train_data.txt',\n",
    "    val_split=dataset_path / 'splits/flood_valid_data.txt',\n",
    "    test_split=dataset_path / 'splits/flood_test_data.txt',\n",
    "    \n",
    "    # Define suffix\n",
    "    img_grep='*_S2Hand.tif',\n",
    "    label_grep='*_LabelHand.tif',\n",
    "    \n",
    "    train_transform=[\n",
    "        albumentations.D4(), # Random flips and rotation\n",
    "        albumentations.pytorch.transforms.ToTensorV2(),\n",
    "    ],\n",
    "    val_transform=None,  # Using ToTensor() by default\n",
    "    test_transform=None,\n",
    "    \n",
    "    # Define bands in the data and which one you want to use (optional)\n",
    "    dataset_bands=[\n",
    "      \"COASTAL_AEROSOL\",\n",
    "      \"BLUE\",\n",
    "      \"GREEN\",\n",
    "      \"RED\",\n",
    "      \"RED_EDGE_1\",\n",
    "      \"RED_EDGE_2\",\n",
    "      \"RED_EDGE_3\",\n",
    "      \"NIR_BROAD\",\n",
    "      \"NIR_NARROW\",\n",
    "      \"CIRRUS\",\n",
    "      \"SWIR_1\",\n",
    "      \"SWIR_2\",\n",
    "    ],\n",
    "    output_bands=[\n",
    "      \"BLUE\",\n",
    "      \"GREEN\",\n",
    "      \"RED\",\n",
    "      \"NIR_NARROW\",\n",
    "      \"SWIR_1\",\n",
    "      \"SWIR_2\", \n",
    "    ],\n",
    "    \n",
    "    # Define standardization values for the output_bands\n",
    "    means=[\n",
    "      0.11076498225107874,\n",
    "      0.13456047562676646,\n",
    "      0.12477149645635542,\n",
    "      0.3248933937526503,\n",
    "      0.23118412840904512,\n",
    "      0.15624583324071273,\n",
    "    ],\n",
    "    stds=[\n",
    "      0.15469174852002912,\n",
    "      0.13070592427323752,\n",
    "      0.12786689586224442,\n",
    "      0.13925781946803198,\n",
    "      0.11303782829438778,\n",
    "      0.10207461132314981,\n",
    "    ],\n",
    ")\n",
    "\n",
    "# Setup train and val datasets\n",
    "datamodule.setup(\"fit\")"
   ]
  },
  {
   "cell_type": "code",
   "execution_count": null,
   "id": "08644e71-d82f-426c-b0c1-79026fccb578",
   "metadata": {},
   "outputs": [],
   "source": [
    "# checking datasets train split size\n",
    "train_dataset = datamodule.train_dataset\n",
    "len(train_dataset)"
   ]
  },
  {
   "cell_type": "code",
   "execution_count": null,
   "id": "b7062ddc-a3b7-4378-898c-41abcdf2ee3b",
   "metadata": {},
   "outputs": [],
   "source": [
    "# checking datasets validation split size\n",
    "val_dataset = datamodule.val_dataset\n",
    "len(val_dataset)"
   ]
  },
  {
   "cell_type": "code",
   "execution_count": null,
   "id": "3a1da2ad-a797-4f4a-ad1a-cd10f9addb01",
   "metadata": {},
   "outputs": [],
   "source": [
    "# plotting a few samples\n",
    "val_dataset.plot(val_dataset[0])\n",
    "val_dataset.plot(val_dataset[9])\n",
    "val_dataset.plot(val_dataset[11])"
   ]
  },
  {
   "cell_type": "code",
   "execution_count": null,
   "id": "ede1c1c6-9f60-4510-a2da-572c55d03f79",
   "metadata": {
    "id": "ede1c1c6-9f60-4510-a2da-572c55d03f79"
   },
   "outputs": [],
   "source": [
    "# checking datasets testing split size\n",
    "datamodule.setup(\"test\")\n",
    "test_dataset = datamodule.test_dataset\n",
    "len(test_dataset)"
   ]
  },
  {
   "cell_type": "markdown",
   "id": "cf0453502fb0bf62",
   "metadata": {},
   "source": [
    "# TerraTorch model factory"
   ]
  },
  {
   "cell_type": "code",
   "execution_count": null,
   "id": "d970183baaea88cd",
   "metadata": {},
   "outputs": [],
   "source": [
    "# TerraTorch includes meta registries for all model components \n",
    "from terratorch.registry import BACKBONE_REGISTRY, TERRATORCH_BACKBONE_REGISTRY, TERRATORCH_DECODER_REGISTRY"
   ]
  },
  {
   "cell_type": "code",
   "execution_count": null,
   "id": "f4109f8f262cc5f6",
   "metadata": {},
   "outputs": [],
   "source": [
    "list(TERRATORCH_BACKBONE_REGISTRY)[:5]"
   ]
  },
  {
   "cell_type": "code",
   "execution_count": null,
   "id": "9a51fdde4e1e5d1a",
   "metadata": {},
   "outputs": [],
   "source": [
    "list(TERRATORCH_DECODER_REGISTRY)"
   ]
  },
  {
   "cell_type": "code",
   "execution_count": null,
   "id": "56bc7fa971e02793",
   "metadata": {},
   "outputs": [],
   "source": [
    "# Build PyTorch model for custom pipeline\n",
    "model = BACKBONE_REGISTRY.build(\"prithvi_eo_v2_300_tl\", pretrained=True)"
   ]
  },
  {
   "cell_type": "code",
   "execution_count": null,
   "id": "9fcb50e133f20cd7",
   "metadata": {},
   "outputs": [],
   "source": [
    "model"
   ]
  },
  {
   "cell_type": "markdown",
   "id": "654a30ddef8ed5a",
   "metadata": {},
   "source": [
    "# Fine-tune Prithvi via PyTorch Lightning"
   ]
  },
  {
   "cell_type": "code",
   "execution_count": null,
   "id": "ae69d39a-857a-4392-b058-0f4b518edf6e",
   "metadata": {
    "id": "ae69d39a-857a-4392-b058-0f4b518edf6e",
    "scrolled": true
   },
   "outputs": [],
   "source": [
    "pl.seed_everything(0)\n",
    "\n",
    "checkpoint_callback = pl.callbacks.ModelCheckpoint(\n",
    "    dirpath=\"output/sen1floods11/checkpoints/\",\n",
    "    mode=\"max\",\n",
    "    monitor=\"val/Multiclass_Jaccard_Index\", # Variable to monitor\n",
    "    filename=\"best-{epoch:02d}\",\n",
    ")\n",
    "\n",
    "# Lightning Trainer\n",
    "trainer = pl.Trainer(\n",
    "    accelerator=\"auto\",\n",
    "    strategy=\"auto\",\n",
    "    devices=1, # Deactivate multi-gpu because it often fails in notebooks\n",
    "    precision='16-mixed',  # Speed up training\n",
    "    num_nodes=1,\n",
    "    logger=True,  # Uses TensorBoard by default\n",
    "    max_epochs=5, # For demos\n",
    "    log_every_n_steps=1,\n",
    "    enable_checkpointing=True,\n",
    "    callbacks=[checkpoint_callback, pl.callbacks.RichProgressBar()],\n",
    "    default_root_dir=\"output/sen1floods11/\",\n",
    ")\n",
    "\n",
    "# Model\n",
    "model = terratorch.tasks.SemanticSegmentationTask(\n",
    "    model_factory=\"EncoderDecoderFactory\",\n",
    "    model_args={\n",
    "        # Backbone\n",
    "        \"backbone\": \"prithvi_eo_v2_300_tl\", # Model can be either prithvi_eo_v1_100, prithvi_eo_v2_300, prithvi_eo_v2_300_tl, prithvi_eo_v2_600, prithvi_eo_v2_600_tl\n",
    "        \"backbone_pretrained\": True,\n",
    "        \"backbone_num_frames\": 1, # 1 is the default value\n",
    "        \"backbone_img_size\": 512, # if not provided: interpolate pos embedding from 224 pre-training which also works well\n",
    "        \"backbone_bands\": [\"BLUE\", \"GREEN\", \"RED\", \"NIR_NARROW\", \"SWIR_1\", \"SWIR_2\"],\n",
    "        \"backbone_coords_encoding\": [], # use [\"time\", \"location\"] for time and location metadata\n",
    "        \n",
    "        # Necks \n",
    "        \"necks\": [\n",
    "            {\n",
    "                \"name\": \"SelectIndices\",\n",
    "                # \"indices\": [2, 5, 8, 11] # indices for prithvi_eo_v1_100\n",
    "                \"indices\": [5, 11, 17, 23] # indices for prithvi_eo_v2_300\n",
    "                # \"indices\": [7, 15, 23, 31] # indices for prithvi_eo_v2_600\n",
    "            },\n",
    "            {\"name\": \"ReshapeTokensToImage\",},\n",
    "            {\"name\": \"LearnedInterpolateToPyramidal\"}            \n",
    "        ],\n",
    "        \n",
    "        # Decoder\n",
    "        \"decoder\": \"UNetDecoder\",\n",
    "        \"decoder_channels\": [512, 256, 128, 64],\n",
    "        \n",
    "        # Head\n",
    "        \"head_dropout\": 0.1,\n",
    "        \"num_classes\": 2,\n",
    "    },\n",
    "    \n",
    "    loss=\"dice\",\n",
    "    optimizer=\"AdamW\",\n",
    "    lr=1e-4,\n",
    "    ignore_index=-1,\n",
    "    freeze_backbone=True, # Speeds up fine-tuning\n",
    "    freeze_decoder=False,\n",
    "    plot_on_val=True,\n",
    "    class_names=['no water', 'water']  # optionally define class names\n",
    ")"
   ]
  },
  {
   "cell_type": "code",
   "execution_count": null,
   "id": "ca03ce8977006bb0",
   "metadata": {},
   "outputs": [],
   "source": [
    "%load_ext tensorboard\n",
    "%tensorboard --logdir output"
   ]
  },
  {
   "cell_type": "code",
   "execution_count": null,
   "id": "ff284062edfce308",
   "metadata": {},
   "outputs": [],
   "source": [
    "# Training\n",
    "trainer.fit(model, datamodule=datamodule)"
   ]
  },
  {
   "cell_type": "code",
   "execution_count": null,
   "id": "a0d51d08802df9e1",
   "metadata": {},
   "outputs": [],
   "source": [
    "best_ckpt_path = \"output/sen1floods11/checkpoints/best-epoch=01.ckpt\""
   ]
  },
  {
   "cell_type": "code",
   "execution_count": null,
   "id": "35a77263-5308-4781-a17f-a35e62ca1875",
   "metadata": {
    "id": "35a77263-5308-4781-a17f-a35e62ca1875",
    "scrolled": true
   },
   "outputs": [],
   "source": [
    "trainer.test(model, datamodule=datamodule, ckpt_path=best_ckpt_path)"
   ]
  },
  {
   "cell_type": "code",
   "execution_count": null,
   "id": "1e015fe0-88ee-46cf-b972-f8cb9d361536",
   "metadata": {
    "colab": {
     "base_uri": "https://localhost:8080/",
     "height": 1000
    },
    "id": "1e015fe0-88ee-46cf-b972-f8cb9d361536",
    "outputId": "c7c06228-e634-4608-cb0e-617d003fea46"
   },
   "outputs": [],
   "source": [
    "# now we can use the model for predictions and plotting!\n",
    "model = terratorch.tasks.SemanticSegmentationTask.load_from_checkpoint(\n",
    "    best_ckpt_path,\n",
    "    model_factory=model.hparams.model_factory,\n",
    "    model_args=model.hparams.model_args,\n",
    ")\n",
    "\n",
    "test_loader = datamodule.test_dataloader()\n",
    "with torch.no_grad():\n",
    "    batch = next(iter(test_loader))\n",
    "    images = batch[\"image\"].to(model.device)\n",
    "    masks = batch[\"mask\"].numpy()\n",
    "\n",
    "    outputs = model(images)\n",
    "    preds = torch.argmax(outputs.output, dim=1).cpu().numpy()\n",
    "\n",
    "for i in range(5):\n",
    "    sample = {key: batch[key][i] for key in batch}\n",
    "    sample[\"prediction\"] = preds[i]\n",
    "    test_dataset.plot(sample)"
   ]
  },
  {
   "cell_type": "markdown",
   "id": "80e7cf70f5e06c3e",
   "metadata": {},
   "source": [
    "# Fine-tuning via CLI\n",
    "\n",
    "You might want to restart the session to free up GPU memory."
   ]
  },
  {
   "cell_type": "code",
   "execution_count": null,
   "id": "38b357340b087bc6",
   "metadata": {},
   "outputs": [],
   "source": [
    "# Download config\n",
    "!wget wget https://raw.githubusercontent.com/ibm/TerraTorch/refs/heads/main/examples/tutorial/configs/prithvi_v2_eo_300_tl_unet_sen1floods11.yaml"
   ]
  },
  {
   "cell_type": "code",
   "execution_count": null,
   "id": "fd1c41843f46666f",
   "metadata": {},
   "outputs": [],
   "source": [
    "# Run fine-tuning\n",
    "!terratorch fit -c prithvi_v2_eo_300_tl_unet_sen1floods11.yaml"
   ]
  }
 ],
 "metadata": {
  "colab": {
   "provenance": []
  },
  "kernelspec": {
   "display_name": "Python 3 (ipykernel)",
   "language": "python",
   "name": "python3"
  },
  "language_info": {
   "codemirror_mode": {
    "name": "ipython",
    "version": 3
   },
   "file_extension": ".py",
   "mimetype": "text/x-python",
   "name": "python",
   "nbconvert_exporter": "python",
   "pygments_lexer": "ipython3",
   "version": "3.12.7"
  }
 },
 "nbformat": 4,
 "nbformat_minor": 5
}
