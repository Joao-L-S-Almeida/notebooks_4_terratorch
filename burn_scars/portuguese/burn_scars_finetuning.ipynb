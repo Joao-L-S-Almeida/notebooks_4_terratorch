{
 "cells": [
  {
   "cell_type": "code",
   "execution_count": 1,
   "id": "1445996d-703b-4216-985c-4982e5945c5c",
   "metadata": {},
   "outputs": [
    {
     "name": "stderr",
     "output_type": "stream",
     "text": [
      "/home/jalmeida/.pyenv/versions/3.11.10/envs/terratorch/lib/python3.11/site-packages/tqdm/auto.py:21: TqdmWarning: IProgress not found. Please update jupyter and ipywidgets. See https://ipywidgets.readthedocs.io/en/stable/user_install.html\n",
      "  from .autonotebook import tqdm as notebook_tqdm\n"
     ]
    }
   ],
   "source": [
    "from lightning.pytorch import Trainer\n",
    "import terratorch\n",
    "import albumentations\n",
    "from albumentations.pytorch import ToTensorV2\n",
    "from terratorch.models import EncoderDecoderFactory\n",
    "from terratorch.models.necks import SelectIndices, LearnedInterpolateToPyramidal, ReshapeTokensToImage\n",
    "from terratorch.models.decoders import UNetDecoder\n",
    "from terratorch.datasets import HLSBands\n",
    "from terratorch.datamodules import GenericNonGeoSegmentationDataModule\n",
    "from terratorch.tasks import SemanticSegmentationTask"
   ]
  },
  {
   "cell_type": "markdown",
   "id": "7c3c5ebc-b841-4972-8335-75e524213541",
   "metadata": {},
   "source": [
    "### Escolhendo alguns parâmetros fundamentals:\n",
    "* `lr` - learning rate.\n",
    "* `accelerator` - O tipo de dispositivo em que iremos executar o modelo. Geralmente será `gpu`ou `cpu`, mas podemos definir como `auto` e deixar os sitema escolher o que estiver disponível.\n",
    "* `max_epochs` - O máximo número de iterações (`epochs` no jargão de machine learning) que usaremos para treinar o modelo. "
   ]
  },
  {
   "cell_type": "code",
   "execution_count": 2,
   "id": "908100e7-1c25-42f3-bb72-68ff46f71bf3",
   "metadata": {},
   "outputs": [],
   "source": [
    "lr = 1e-4\n",
    "accelerator = \"auto\"\n",
    "max_epochs = 1"
   ]
  },
  {
   "cell_type": "markdown",
   "id": "189e7007-aac3-4cf2-80c1-a3616910f912",
   "metadata": {},
   "source": [
    "### Abaixo a instanciamento do datamodule, o objeto que usaremos para gerenciar o carregamento dos dadados do disco para a memória. "
   ]
  },
  {
   "cell_type": "code",
   "execution_count": 3,
   "id": "776809ab-5c8a-4776-987a-a25cf5c13276",
   "metadata": {},
   "outputs": [],
   "source": [
    "datamodule = GenericNonGeoSegmentationDataModule(\n",
    "    batch_size = 2,\n",
    "    num_workers = 8,\n",
    "    dataset_bands = [HLSBands.BLUE, HLSBands.GREEN, HLSBands.RED, HLSBands.NIR_NARROW, HLSBands.SWIR_1, HLSBands.SWIR_2],\n",
    "    output_bands = [HLSBands.BLUE, HLSBands.GREEN, HLSBands.RED, HLSBands.NIR_NARROW, HLSBands.SWIR_1, HLSBands.SWIR_2],\n",
    "    rgb_indices = [2, 1, 0],\n",
    "    means = [\n",
    "          0.033349706741586264,\n",
    "          0.05701185520536176,\n",
    "          0.05889748132001316,\n",
    "          0.2323245113436119,\n",
    "          0.1972854853760658,\n",
    "          0.11944914225186566,\n",
    "    ],\n",
    "    stds = [\n",
    "          0.02269135568823774,\n",
    "          0.026807560223070237,\n",
    "          0.04004109844362779,\n",
    "          0.07791732423672691,\n",
    "          0.08708738838140137,\n",
    "          0.07241979477437814,\n",
    "    ],\n",
    "    train_data_root = \"hls_burn_scars/training\",\n",
    "    val_data_root = \"hls_burn_scars/validation\",\n",
    "    test_data_root = \"hls_burn_scars/validation\",\n",
    "    img_grep = \"*_merged.tif\",\n",
    "    label_grep = \"*.mask.tif\",\n",
    "    num_classes = 2,\n",
    "    train_transform = [albumentations.D4(), ToTensorV2()],\n",
    "    test_transform = [ToTensorV2()],\n",
    "    no_data_replace = 0,\n",
    "    no_label_replace =  -1,\n",
    ")"
   ]
  },
  {
   "cell_type": "markdown",
   "id": "47b90d9a-b07b-44a5-9020-75fec19874b7",
   "metadata": {},
   "source": [
    "### Abaixo, o dicionário contendo todos os argumentos necessário para instanciar nosso modelo, um objeto `backbone-neck-decoder-head` completo. Esse dicionário é passado para a instância do objeto `task`, que, por sua vez, irá criar uma nova versão do modelo na memória. "
   ]
  },
  {
   "cell_type": "code",
   "execution_count": 4,
   "id": "c964b5e4-00d0-425a-af39-052faedf048f",
   "metadata": {},
   "outputs": [],
   "source": [
    "model_args = dict(\n",
    "  backbone=\"prithvi_eo_v2_300\",\n",
    "  backbone_pretrained=True,\n",
    "  backbone_num_frames=1,\n",
    "  num_classes = 2,\n",
    "  backbone_bands=[\n",
    "      \"BLUE\",\n",
    "      \"GREEN\",\n",
    "      \"RED\",\n",
    "      \"NIR_NARROW\",\n",
    "      \"SWIR_1\",\n",
    "      \"WIR_2\",\n",
    "  ],\n",
    "  decoder = \"UNetDecoder\",\n",
    "  decoder_channels = [512, 256, 128, 64],\n",
    "  necks=[{\"name\": \"SelectIndices\", \"indices\": [5, 11, 17, 23]},\n",
    "         {\"name\": \"ReshapeTokensToImage\"},\n",
    "         {\"name\": \"LearnedInterpolateToPyramidal\"}],\n",
    "  head_dropout=0.1\n",
    ")"
   ]
  },
  {
   "cell_type": "markdown",
   "id": "ce730f3f-c503-4ea1-96c4-fd4dc7ee3c43",
   "metadata": {},
   "source": [
    "### A criação do objeto `task`, que conduzirá o treinamento do modelo que configuramos na etapa anterior para a tarefa de segmentação que temos como objetivo. "
   ]
  },
  {
   "cell_type": "code",
   "execution_count": 5,
   "id": "62ed2a98-a6f2-4ad9-b0fb-569892e163eb",
   "metadata": {},
   "outputs": [
    {
     "name": "stderr",
     "output_type": "stream",
     "text": [
      "INFO:root:Loaded weights for HLSBands.BLUE in position 0 of patch embed\n",
      "INFO:root:Loaded weights for HLSBands.GREEN in position 1 of patch embed\n",
      "INFO:root:Loaded weights for HLSBands.RED in position 2 of patch embed\n",
      "INFO:root:Loaded weights for HLSBands.NIR_NARROW in position 3 of patch embed\n",
      "INFO:root:Loaded weights for HLSBands.SWIR_1 in position 4 of patch embed\n",
      "INFO:root:Loaded weights for HLSBands.SWIR_2 in position 5 of patch embed\n"
     ]
    }
   ],
   "source": [
    "task = SemanticSegmentationTask(\n",
    "    model_args,\n",
    "    \"EncoderDecoderFactory\",\n",
    "    loss=\"ce\",\n",
    "    lr=lr,\n",
    "    ignore_index=-1,\n",
    "    optimizer=\"AdamW\",\n",
    "    optimizer_hparams={\"weight_decay\": 0.05},\n",
    "    freeze_backbone = False,\n",
    "    plot_on_val = False,\n",
    "    class_names = [\"Not burned\", \"Burn scar\"],\n",
    ")"
   ]
  },
  {
   "cell_type": "markdown",
   "id": "dcff1ea1-5a52-48e3-9161-2767b1a43438",
   "metadata": {},
   "source": [
    "### O objeto `Trainer` coordena todo o processo de treinamento. Podemos interpretá-lo como um `laço` de otimização aperfeiçoado, pois suporta recursos adicionais, como paralelismo para múltiplos nós. "
   ]
  },
  {
   "cell_type": "code",
   "execution_count": 6,
   "id": "f5f47df6-7e7d-4b8f-b7e2-26d42dea231f",
   "metadata": {},
   "outputs": [
    {
     "name": "stderr",
     "output_type": "stream",
     "text": [
      "GPU available: True (cuda), used: True\n",
      "TPU available: False, using: 0 TPU cores\n",
      "HPU available: False, using: 0 HPUs\n"
     ]
    }
   ],
   "source": [
    "trainer = Trainer(\n",
    "    accelerator=accelerator,\n",
    "    max_epochs=max_epochs,\n",
    ")"
   ]
  },
  {
   "cell_type": "markdown",
   "id": "aee79fa9-daf9-4589-815c-a1a34a5943b6",
   "metadata": {},
   "source": [
    "### Executando, de fato, o treinamento. "
   ]
  },
  {
   "cell_type": "code",
   "execution_count": 8,
   "id": "771c026c-9e77-46e6-b8ae-5ded071094df",
   "metadata": {},
   "outputs": [
    {
     "name": "stderr",
     "output_type": "stream",
     "text": [
      "You are using a CUDA device ('NVIDIA RTX A4500 Laptop GPU') that has Tensor Cores. To properly utilize them, you should set `torch.set_float32_matmul_precision('medium' | 'high')` which will trade-off precision for performance. For more details, read https://pytorch.org/docs/stable/generated/torch.set_float32_matmul_precision.html#torch.set_float32_matmul_precision\n",
      "LOCAL_RANK: 0 - CUDA_VISIBLE_DEVICES: [0]\n",
      "\n",
      "  | Name          | Type             | Params | Mode \n",
      "-----------------------------------------------------------\n",
      "0 | model         | PixelWiseModel   | 324 M  | train\n",
      "1 | criterion     | CrossEntropyLoss | 0      | train\n",
      "2 | train_metrics | MetricCollection | 0      | train\n",
      "3 | val_metrics   | MetricCollection | 0      | train\n",
      "4 | test_metrics  | ModuleList       | 0      | train\n",
      "-----------------------------------------------------------\n",
      "324 M     Trainable params\n",
      "0         Non-trainable params\n",
      "324 M     Total params\n",
      "1,296.819 Total estimated model params size (MB)\n",
      "617       Modules in train mode\n",
      "0         Modules in eval mode\n"
     ]
    },
    {
     "name": "stdout",
     "output_type": "stream",
     "text": [
      "Epoch 0: 100%|█████████████████████████████████████████████████████████████████████████████████████████████████████████████| 270/270 [05:23<00:00,  0.83it/s, v_num=7]\n",
      "\u001b[Aidation: |                                                                                                                                   | 0/? [00:00<?, ?it/s]\n",
      "\u001b[Aidation:   0%|                                                                                                                             | 0/132 [00:00<?, ?it/s]\n",
      "\u001b[Aidation DataLoader 0:   0%|                                                                                                                | 0/132 [00:00<?, ?it/s]\n",
      "\u001b[Aidation DataLoader 0:   1%|▊                                                                                                       | 1/132 [00:00<01:02,  2.11it/s]\n",
      "\u001b[Aidation DataLoader 0:   2%|█▌                                                                                                      | 2/132 [00:00<01:02,  2.09it/s]\n",
      "\u001b[Aidation DataLoader 0:   2%|██▎                                                                                                     | 3/132 [00:01<01:01,  2.09it/s]\n",
      "\u001b[Aidation DataLoader 0:   3%|███▏                                                                                                    | 4/132 [00:01<00:59,  2.15it/s]\n",
      "\u001b[Aidation DataLoader 0:   4%|███▉                                                                                                    | 5/132 [00:02<00:57,  2.19it/s]\n",
      "\u001b[Aidation DataLoader 0:   5%|████▋                                                                                                   | 6/132 [00:02<00:57,  2.20it/s]\n",
      "\u001b[Aidation DataLoader 0:   5%|█████▌                                                                                                  | 7/132 [00:03<00:57,  2.19it/s]\n",
      "\u001b[Aidation DataLoader 0:   6%|██████▎                                                                                                 | 8/132 [00:03<00:56,  2.19it/s]\n",
      "\u001b[Aidation DataLoader 0:   7%|███████                                                                                                 | 9/132 [00:04<00:56,  2.18it/s]\n",
      "\u001b[Aidation DataLoader 0:   8%|███████▊                                                                                               | 10/132 [00:04<00:56,  2.17it/s]\n",
      "\u001b[Aidation DataLoader 0:   8%|████████▌                                                                                              | 11/132 [00:05<00:55,  2.16it/s]\n",
      "\u001b[Aidation DataLoader 0:   9%|█████████▎                                                                                             | 12/132 [00:05<00:55,  2.16it/s]\n",
      "\u001b[Aidation DataLoader 0:  10%|██████████▏                                                                                            | 13/132 [00:06<00:55,  2.16it/s]\n",
      "\u001b[Aidation DataLoader 0:  11%|██████████▉                                                                                            | 14/132 [00:06<00:54,  2.16it/s]\n",
      "\u001b[Aidation DataLoader 0:  11%|███████████▋                                                                                           | 15/132 [00:06<00:54,  2.15it/s]\n",
      "\u001b[Aidation DataLoader 0:  12%|████████████▍                                                                                          | 16/132 [00:07<00:53,  2.15it/s]\n",
      "\u001b[Aidation DataLoader 0:  13%|█████████████▎                                                                                         | 17/132 [00:07<00:53,  2.15it/s]\n",
      "\u001b[Aidation DataLoader 0:  14%|██████████████                                                                                         | 18/132 [00:08<00:52,  2.15it/s]\n",
      "\u001b[Aidation DataLoader 0:  14%|██████████████▊                                                                                        | 19/132 [00:08<00:52,  2.15it/s]\n",
      "\u001b[Aidation DataLoader 0:  15%|███████████████▌                                                                                       | 20/132 [00:09<00:52,  2.15it/s]\n",
      "\u001b[Aidation DataLoader 0:  16%|████████████████▍                                                                                      | 21/132 [00:09<00:51,  2.15it/s]\n",
      "\u001b[Aidation DataLoader 0:  17%|█████████████████▏                                                                                     | 22/132 [00:10<00:51,  2.15it/s]\n",
      "\u001b[Aidation DataLoader 0:  17%|█████████████████▉                                                                                     | 23/132 [00:10<00:50,  2.15it/s]\n",
      "\u001b[Aidation DataLoader 0:  18%|██████████████████▋                                                                                    | 24/132 [00:11<00:50,  2.15it/s]\n",
      "\u001b[Aidation DataLoader 0:  19%|███████████████████▌                                                                                   | 25/132 [00:11<00:49,  2.15it/s]\n",
      "\u001b[Aidation DataLoader 0:  20%|████████████████████▎                                                                                  | 26/132 [00:12<00:49,  2.15it/s]\n",
      "\u001b[Aidation DataLoader 0:  20%|█████████████████████                                                                                  | 27/132 [00:12<00:48,  2.15it/s]\n",
      "\u001b[Aidation DataLoader 0:  21%|█████████████████████▊                                                                                 | 28/132 [00:13<00:48,  2.15it/s]\n",
      "\u001b[Aidation DataLoader 0:  22%|██████████████████████▋                                                                                | 29/132 [00:13<00:47,  2.15it/s]\n",
      "\u001b[Aidation DataLoader 0:  23%|███████████████████████▍                                                                               | 30/132 [00:13<00:47,  2.15it/s]\n",
      "\u001b[Aidation DataLoader 0:  23%|████████████████████████▏                                                                              | 31/132 [00:14<00:47,  2.15it/s]\n",
      "\u001b[Aidation DataLoader 0:  24%|████████████████████████▉                                                                              | 32/132 [00:14<00:46,  2.15it/s]\n",
      "\u001b[Aidation DataLoader 0:  25%|█████████████████████████▊                                                                             | 33/132 [00:15<00:46,  2.15it/s]\n",
      "\u001b[Aidation DataLoader 0:  26%|██████████████████████████▌                                                                            | 34/132 [00:15<00:45,  2.15it/s]\n",
      "\u001b[Aidation DataLoader 0:  27%|███████████████████████████▎                                                                           | 35/132 [00:16<00:45,  2.15it/s]\n",
      "\u001b[Aidation DataLoader 0:  27%|████████████████████████████                                                                           | 36/132 [00:16<00:44,  2.15it/s]\n",
      "\u001b[Aidation DataLoader 0:  28%|████████████████████████████▊                                                                          | 37/132 [00:17<00:44,  2.15it/s]\n",
      "\u001b[Aidation DataLoader 0:  29%|█████████████████████████████▋                                                                         | 38/132 [00:17<00:43,  2.15it/s]\n",
      "\u001b[Aidation DataLoader 0:  30%|██████████████████████████████▍                                                                        | 39/132 [00:18<00:43,  2.15it/s]\n",
      "\u001b[Aidation DataLoader 0:  30%|███████████████████████████████▏                                                                       | 40/132 [00:18<00:42,  2.15it/s]\n",
      "\u001b[Aidation DataLoader 0:  31%|███████████████████████████████▉                                                                       | 41/132 [00:19<00:42,  2.14it/s]\n",
      "\u001b[Aidation DataLoader 0:  32%|████████████████████████████████▊                                                                      | 42/132 [00:19<00:41,  2.14it/s]\n",
      "\u001b[Aidation DataLoader 0:  33%|█████████████████████████████████▌                                                                     | 43/132 [00:20<00:41,  2.14it/s]\n",
      "\u001b[Aidation DataLoader 0:  33%|██████████████████████████████████▎                                                                    | 44/132 [00:20<00:41,  2.14it/s]\n",
      "\u001b[Aidation DataLoader 0:  34%|███████████████████████████████████                                                                    | 45/132 [00:21<00:40,  2.14it/s]\n",
      "\u001b[Aidation DataLoader 0:  35%|███████████████████████████████████▉                                                                   | 46/132 [00:21<00:40,  2.14it/s]\n",
      "\u001b[Aidation DataLoader 0:  36%|████████████████████████████████████▋                                                                  | 47/132 [00:21<00:39,  2.14it/s]\n",
      "\u001b[Aidation DataLoader 0:  36%|█████████████████████████████████████▍                                                                 | 48/132 [00:22<00:39,  2.14it/s]\n",
      "\u001b[Aidation DataLoader 0:  37%|██████████████████████████████████████▏                                                                | 49/132 [00:22<00:38,  2.14it/s]\n",
      "\u001b[Aidation DataLoader 0:  38%|███████████████████████████████████████                                                                | 50/132 [00:23<00:38,  2.14it/s]\n",
      "\u001b[Aidation DataLoader 0:  39%|███████████████████████████████████████▊                                                               | 51/132 [00:23<00:37,  2.14it/s]\n",
      "\u001b[Aidation DataLoader 0:  39%|████████████████████████████████████████▌                                                              | 52/132 [00:24<00:37,  2.14it/s]\n",
      "\u001b[Aidation DataLoader 0:  40%|█████████████████████████████████████████▎                                                             | 53/132 [00:24<00:36,  2.14it/s]\n",
      "\u001b[Aidation DataLoader 0:  41%|██████████████████████████████████████████▏                                                            | 54/132 [00:25<00:36,  2.14it/s]\n",
      "\u001b[Aidation DataLoader 0:  42%|██████████████████████████████████████████▉                                                            | 55/132 [00:25<00:36,  2.14it/s]\n",
      "\u001b[Aidation DataLoader 0:  42%|███████████████████████████████████████████▋                                                           | 56/132 [00:26<00:35,  2.14it/s]\n",
      "\u001b[Aidation DataLoader 0:  43%|████████████████████████████████████████████▍                                                          | 57/132 [00:26<00:35,  2.14it/s]\n",
      "\u001b[Aidation DataLoader 0:  44%|█████████████████████████████████████████████▎                                                         | 58/132 [00:27<00:34,  2.14it/s]\n",
      "\u001b[Aidation DataLoader 0:  45%|██████████████████████████████████████████████                                                         | 59/132 [00:27<00:34,  2.14it/s]\n",
      "\u001b[Aidation DataLoader 0:  45%|██████████████████████████████████████████████▊                                                        | 60/132 [00:28<00:33,  2.14it/s]\n",
      "\u001b[Aidation DataLoader 0:  46%|███████████████████████████████████████████████▌                                                       | 61/132 [00:28<00:33,  2.13it/s]\n",
      "\u001b[Aidation DataLoader 0:  47%|████████████████████████████████████████████████▍                                                      | 62/132 [00:29<00:32,  2.13it/s]\n",
      "\u001b[Aidation DataLoader 0:  48%|█████████████████████████████████████████████████▏                                                     | 63/132 [00:29<00:32,  2.13it/s]\n",
      "\u001b[Aidation DataLoader 0:  48%|█████████████████████████████████████████████████▉                                                     | 64/132 [00:29<00:31,  2.13it/s]\n",
      "\u001b[Aidation DataLoader 0:  49%|██████████████████████████████████████████████████▋                                                    | 65/132 [00:30<00:31,  2.13it/s]\n",
      "\u001b[Aidation DataLoader 0:  50%|███████████████████████████████████████████████████▌                                                   | 66/132 [00:30<00:30,  2.13it/s]\n",
      "\u001b[Aidation DataLoader 0:  51%|████████████████████████████████████████████████████▎                                                  | 67/132 [00:31<00:30,  2.13it/s]\n",
      "\u001b[Aidation DataLoader 0:  52%|█████████████████████████████████████████████████████                                                  | 68/132 [00:31<00:29,  2.13it/s]\n",
      "\u001b[Aidation DataLoader 0:  52%|█████████████████████████████████████████████████████▊                                                 | 69/132 [00:32<00:29,  2.13it/s]\n",
      "\u001b[Aidation DataLoader 0:  53%|██████████████████████████████████████████████████████▌                                                | 70/132 [00:32<00:29,  2.13it/s]\n",
      "\u001b[Aidation DataLoader 0:  54%|███████████████████████████████████████████████████████▍                                               | 71/132 [00:33<00:28,  2.13it/s]\n",
      "\u001b[Aidation DataLoader 0:  55%|████████████████████████████████████████████████████████▏                                              | 72/132 [00:33<00:28,  2.13it/s]\n",
      "\u001b[Aidation DataLoader 0:  55%|████████████████████████████████████████████████████████▉                                              | 73/132 [00:34<00:27,  2.13it/s]\n",
      "\u001b[Aidation DataLoader 0:  56%|█████████████████████████████████████████████████████████▋                                             | 74/132 [00:34<00:27,  2.13it/s]\n",
      "\u001b[Aidation DataLoader 0:  57%|██████████████████████████████████████████████████████████▌                                            | 75/132 [00:35<00:26,  2.13it/s]\n",
      "\u001b[Aidation DataLoader 0:  58%|███████████████████████████████████████████████████████████▎                                           | 76/132 [00:35<00:26,  2.13it/s]\n",
      "\u001b[Aidation DataLoader 0:  58%|████████████████████████████████████████████████████████████                                           | 77/132 [00:36<00:25,  2.14it/s]\n",
      "\u001b[Aidation DataLoader 0:  59%|████████████████████████████████████████████████████████████▊                                          | 78/132 [00:36<00:25,  2.14it/s]\n",
      "\u001b[Aidation DataLoader 0:  60%|█████████████████████████████████████████████████████████████▋                                         | 79/132 [00:37<00:24,  2.13it/s]\n",
      "\u001b[Aidation DataLoader 0:  61%|██████████████████████████████████████████████████████████████▍                                        | 80/132 [00:37<00:24,  2.13it/s]\n",
      "\u001b[Aidation DataLoader 0:  61%|███████████████████████████████████████████████████████████████▏                                       | 81/132 [00:38<00:23,  2.13it/s]\n",
      "\u001b[Aidation DataLoader 0:  62%|███████████████████████████████████████████████████████████████▉                                       | 82/132 [00:38<00:23,  2.13it/s]\n",
      "\u001b[Aidation DataLoader 0:  63%|████████████████████████████████████████████████████████████████▊                                      | 83/132 [00:39<00:23,  2.13it/s]\n",
      "\u001b[Aidation DataLoader 0:  64%|█████████████████████████████████████████████████████████████████▌                                     | 84/132 [00:39<00:22,  2.13it/s]\n",
      "\u001b[Aidation DataLoader 0:  64%|██████████████████████████████████████████████████████████████████▎                                    | 85/132 [00:39<00:22,  2.13it/s]\n",
      "\u001b[Aidation DataLoader 0:  65%|███████████████████████████████████████████████████████████████████                                    | 86/132 [00:40<00:21,  2.13it/s]\n",
      "\u001b[Aidation DataLoader 0:  66%|███████████████████████████████████████████████████████████████████▉                                   | 87/132 [00:40<00:21,  2.13it/s]\n",
      "\u001b[Aidation DataLoader 0:  67%|████████████████████████████████████████████████████████████████████▋                                  | 88/132 [00:41<00:20,  2.13it/s]\n",
      "\u001b[Aidation DataLoader 0:  67%|█████████████████████████████████████████████████████████████████████▍                                 | 89/132 [00:41<00:20,  2.14it/s]\n",
      "\u001b[Aidation DataLoader 0:  68%|██████████████████████████████████████████████████████████████████████▏                                | 90/132 [00:42<00:19,  2.14it/s]\n",
      "\u001b[Aidation DataLoader 0:  69%|███████████████████████████████████████████████████████████████████████                                | 91/132 [00:42<00:19,  2.14it/s]\n",
      "\u001b[Aidation DataLoader 0:  70%|███████████████████████████████████████████████████████████████████████▊                               | 92/132 [00:42<00:18,  2.14it/s]\n",
      "\u001b[Aidation DataLoader 0:  70%|████████████████████████████████████████████████████████████████████████▌                              | 93/132 [00:43<00:18,  2.14it/s]\n",
      "\u001b[Aidation DataLoader 0:  71%|█████████████████████████████████████████████████████████████████████████▎                             | 94/132 [00:43<00:17,  2.14it/s]\n",
      "\u001b[Aidation DataLoader 0:  72%|██████████████████████████████████████████████████████████████████████████▏                            | 95/132 [00:44<00:17,  2.14it/s]\n",
      "\u001b[Aidation DataLoader 0:  73%|██████████████████████████████████████████████████████████████████████████▉                            | 96/132 [00:44<00:16,  2.14it/s]\n",
      "\u001b[Aidation DataLoader 0:  73%|███████████████████████████████████████████████████████████████████████████▋                           | 97/132 [00:45<00:16,  2.14it/s]\n",
      "\u001b[Aidation DataLoader 0:  74%|████████████████████████████████████████████████████████████████████████████▍                          | 98/132 [00:45<00:15,  2.14it/s]\n",
      "\u001b[Aidation DataLoader 0:  75%|█████████████████████████████████████████████████████████████████████████████▎                         | 99/132 [00:46<00:15,  2.14it/s]\n",
      "\u001b[Aidation DataLoader 0:  76%|█████████████████████████████████████████████████████████████████████████████▎                        | 100/132 [00:46<00:14,  2.14it/s]\n",
      "\u001b[Aidation DataLoader 0:  77%|██████████████████████████████████████████████████████████████████████████████                        | 101/132 [00:47<00:14,  2.14it/s]\n",
      "\u001b[Aidation DataLoader 0:  77%|██████████████████████████████████████████████████████████████████████████████▊                       | 102/132 [00:47<00:14,  2.14it/s]\n",
      "\u001b[Aidation DataLoader 0:  78%|███████████████████████████████████████████████████████████████████████████████▌                      | 103/132 [00:48<00:13,  2.14it/s]\n",
      "\u001b[Aidation DataLoader 0:  79%|████████████████████████████████████████████████████████████████████████████████▎                     | 104/132 [00:48<00:13,  2.14it/s]\n",
      "\u001b[Aidation DataLoader 0:  80%|█████████████████████████████████████████████████████████████████████████████████▏                    | 105/132 [00:49<00:12,  2.14it/s]\n",
      "\u001b[Aidation DataLoader 0:  80%|█████████████████████████████████████████████████████████████████████████████████▉                    | 106/132 [00:49<00:12,  2.14it/s]\n",
      "\u001b[Aidation DataLoader 0:  81%|██████████████████████████████████████████████████████████████████████████████████▋                   | 107/132 [00:50<00:11,  2.14it/s]\n",
      "\u001b[Aidation DataLoader 0:  82%|███████████████████████████████████████████████████████████████████████████████████▍                  | 108/132 [00:50<00:11,  2.14it/s]\n",
      "\u001b[Aidation DataLoader 0:  83%|████████████████████████████████████████████████████████████████████████████████████▏                 | 109/132 [00:51<00:10,  2.14it/s]\n",
      "\u001b[Aidation DataLoader 0:  83%|█████████████████████████████████████████████████████████████████████████████████████                 | 110/132 [00:51<00:10,  2.14it/s]\n",
      "\u001b[Aidation DataLoader 0:  84%|█████████████████████████████████████████████████████████████████████████████████████▊                | 111/132 [00:51<00:09,  2.14it/s]\n",
      "\u001b[Aidation DataLoader 0:  85%|██████████████████████████████████████████████████████████████████████████████████████▌               | 112/132 [00:52<00:09,  2.14it/s]\n",
      "\u001b[Aidation DataLoader 0:  86%|███████████████████████████████████████████████████████████████████████████████████████▎              | 113/132 [00:52<00:08,  2.14it/s]\n",
      "\u001b[Aidation DataLoader 0:  86%|████████████████████████████████████████████████████████████████████████████████████████              | 114/132 [00:53<00:08,  2.14it/s]\n",
      "\u001b[Aidation DataLoader 0:  87%|████████████████████████████████████████████████████████████████████████████████████████▊             | 115/132 [00:53<00:07,  2.14it/s]\n",
      "\u001b[Aidation DataLoader 0:  88%|█████████████████████████████████████████████████████████████████████████████████████████▋            | 116/132 [00:54<00:07,  2.14it/s]\n",
      "\u001b[Aidation DataLoader 0:  89%|██████████████████████████████████████████████████████████████████████████████████████████▍           | 117/132 [00:54<00:07,  2.14it/s]\n",
      "\u001b[Aidation DataLoader 0:  89%|███████████████████████████████████████████████████████████████████████████████████████████▏          | 118/132 [00:55<00:06,  2.14it/s]\n",
      "\u001b[Aidation DataLoader 0:  90%|███████████████████████████████████████████████████████████████████████████████████████████▉          | 119/132 [00:55<00:06,  2.13it/s]\n",
      "\u001b[Aidation DataLoader 0:  91%|████████████████████████████████████████████████████████████████████████████████████████████▋         | 120/132 [00:56<00:05,  2.13it/s]\n",
      "\u001b[Aidation DataLoader 0:  92%|█████████████████████████████████████████████████████████████████████████████████████████████▌        | 121/132 [00:56<00:05,  2.13it/s]\n",
      "\u001b[Aidation DataLoader 0:  92%|██████████████████████████████████████████████████████████████████████████████████████████████▎       | 122/132 [00:57<00:04,  2.13it/s]\n",
      "\u001b[Aidation DataLoader 0:  93%|███████████████████████████████████████████████████████████████████████████████████████████████       | 123/132 [00:57<00:04,  2.13it/s]\n",
      "\u001b[Aidation DataLoader 0:  94%|███████████████████████████████████████████████████████████████████████████████████████████████▊      | 124/132 [00:58<00:03,  2.13it/s]\n",
      "\u001b[Aidation DataLoader 0:  95%|████████████████████████████████████████████████████████████████████████████████████████████████▌     | 125/132 [00:58<00:03,  2.13it/s]\n",
      "\u001b[Aidation DataLoader 0:  95%|█████████████████████████████████████████████████████████████████████████████████████████████████▎    | 126/132 [00:58<00:02,  2.14it/s]\n",
      "\u001b[Aidation DataLoader 0:  96%|██████████████████████████████████████████████████████████████████████████████████████████████████▏   | 127/132 [00:59<00:02,  2.14it/s]\n",
      "\u001b[Aidation DataLoader 0:  97%|██████████████████████████████████████████████████████████████████████████████████████████████████▉   | 128/132 [00:59<00:01,  2.14it/s]\n",
      "\u001b[Aidation DataLoader 0:  98%|███████████████████████████████████████████████████████████████████████████████████████████████████▋  | 129/132 [01:00<00:01,  2.14it/s]\n",
      "\u001b[Aidation DataLoader 0:  98%|████████████████████████████████████████████████████████████████████████████████████████████████████▍ | 130/132 [01:00<00:00,  2.14it/s]\n",
      "\u001b[Aidation DataLoader 0:  99%|█████████████████████████████████████████████████████████████████████████████████████████████████████▏| 131/132 [01:01<00:00,  2.14it/s]\n",
      "\u001b[Aidation DataLoader 0: 100%|██████████████████████████████████████████████████████████████████████████████████████████████████████| 132/132 [01:01<00:00,  2.14it/s]"
     ]
    },
    {
     "name": "stderr",
     "output_type": "stream",
     "text": [
      "INFO:tensorboardX.summary:Summary name val/multiclassaccuracy_Not burned is illegal; using val/multiclassaccuracy_Not_burned instead.\n",
      "INFO:tensorboardX.summary:Summary name val/multiclassaccuracy_Burn scar is illegal; using val/multiclassaccuracy_Burn_scar instead.\n",
      "INFO:tensorboardX.summary:Summary name val/multiclassjaccardindex_Not burned is illegal; using val/multiclassjaccardindex_Not_burned instead.\n",
      "INFO:tensorboardX.summary:Summary name val/multiclassjaccardindex_Burn scar is illegal; using val/multiclassjaccardindex_Burn_scar instead.\n"
     ]
    },
    {
     "name": "stdout",
     "output_type": "stream",
     "text": [
      "\n",
      "Epoch 0: 100%|█████████████████████████████████████████████████████████████████████████████████████████████████████████████| 270/270 [06:26<00:00,  0.70it/s, v_num=7]"
     ]
    },
    {
     "name": "stderr",
     "output_type": "stream",
     "text": [
      "INFO:tensorboardX.summary:Summary name train/multiclassaccuracy_Not burned is illegal; using train/multiclassaccuracy_Not_burned instead.\n",
      "INFO:tensorboardX.summary:Summary name train/multiclassaccuracy_Burn scar is illegal; using train/multiclassaccuracy_Burn_scar instead.\n",
      "INFO:tensorboardX.summary:Summary name train/multiclassjaccardindex_Not burned is illegal; using train/multiclassjaccardindex_Not_burned instead.\n",
      "INFO:tensorboardX.summary:Summary name train/multiclassjaccardindex_Burn scar is illegal; using train/multiclassjaccardindex_Burn_scar instead.\n",
      "`Trainer.fit` stopped: `max_epochs=1` reached.\n"
     ]
    },
    {
     "name": "stdout",
     "output_type": "stream",
     "text": [
      "Epoch 0: 100%|█████████████████████████████████████████████████████████████████████████████████████████████████████████████| 270/270 [06:35<00:00,  0.68it/s, v_num=7]\n"
     ]
    }
   ],
   "source": [
    "trainer.fit(model=task, datamodule=datamodule)"
   ]
  },
  {
   "cell_type": "code",
   "execution_count": 9,
   "id": "d35d9522-2483-4e34-9c73-7237e03cb836",
   "metadata": {},
   "outputs": [
    {
     "name": "stderr",
     "output_type": "stream",
     "text": [
      "/home/jalmeida/.pyenv/versions/3.11.10/envs/terratorch/lib/python3.11/site-packages/lightning/pytorch/trainer/connectors/checkpoint_connector.py:145: `.test(ckpt_path=None)` was called without a model. The best model of the previous `fit` call will be used. You can pass `.test(ckpt_path='best')` to use the best model or `.test(ckpt_path='last')` to use the last model. If you pass a value, this warning will be silenced.\n",
      "Restoring states from the checkpoint path at /home/jalmeida/Projetos/SBSR_courses/SBSR_notebooks/burn_scars/lightning_logs/version_7/checkpoints/epoch=0-step=270.ckpt\n",
      "LOCAL_RANK: 0 - CUDA_VISIBLE_DEVICES: [0]\n",
      "Loaded model weights from the checkpoint at /home/jalmeida/Projetos/SBSR_courses/SBSR_notebooks/burn_scars/lightning_logs/version_7/checkpoints/epoch=0-step=270.ckpt\n"
     ]
    },
    {
     "name": "stdout",
     "output_type": "stream",
     "text": [
      "Testing DataLoader 0: 100%|█████████████████████████████████████████████████████████████████████████████████████████████████████████| 132/132 [00:43<00:00,  3.06it/s]"
     ]
    },
    {
     "name": "stderr",
     "output_type": "stream",
     "text": [
      "INFO:tensorboardX.summary:Summary name test/multiclassaccuracy_Not burned is illegal; using test/multiclassaccuracy_Not_burned instead.\n",
      "INFO:tensorboardX.summary:Summary name test/multiclassaccuracy_Burn scar is illegal; using test/multiclassaccuracy_Burn_scar instead.\n",
      "INFO:tensorboardX.summary:Summary name test/multiclassjaccardindex_Not burned is illegal; using test/multiclassjaccardindex_Not_burned instead.\n",
      "INFO:tensorboardX.summary:Summary name test/multiclassjaccardindex_Burn scar is illegal; using test/multiclassjaccardindex_Burn_scar instead.\n"
     ]
    },
    {
     "name": "stdout",
     "output_type": "stream",
     "text": [
      "Testing DataLoader 0: 100%|█████████████████████████████████████████████████████████████████████████████████████████████████████████| 132/132 [00:43<00:00,  3.06it/s]\n"
     ]
    },
    {
     "data": {
      "text/html": [
       "<pre style=\"white-space:pre;overflow-x:auto;line-height:normal;font-family:Menlo,'DejaVu Sans Mono',consolas,'Courier New',monospace\">┏━━━━━━━━━━━━━━━━━━━━━━━━━━━━━━━━━━━━━━━━┳━━━━━━━━━━━━━━━━━━━━━━━━━━━━━━━━━━━━━━━━┓\n",
       "┃<span style=\"font-weight: bold\">              Test metric               </span>┃<span style=\"font-weight: bold\">              DataLoader 0              </span>┃\n",
       "┡━━━━━━━━━━━━━━━━━━━━━━━━━━━━━━━━━━━━━━━━╇━━━━━━━━━━━━━━━━━━━━━━━━━━━━━━━━━━━━━━━━┩\n",
       "│<span style=\"color: #008080; text-decoration-color: #008080\">        test/Multiclass_Accuracy        </span>│<span style=\"color: #800080; text-decoration-color: #800080\">           0.9638374447822571           </span>│\n",
       "│<span style=\"color: #008080; text-decoration-color: #008080\">        test/Multiclass_F1_Score        </span>│<span style=\"color: #800080; text-decoration-color: #800080\">           0.9638374447822571           </span>│\n",
       "│<span style=\"color: #008080; text-decoration-color: #008080\">     test/Multiclass_Jaccard_Index      </span>│<span style=\"color: #800080; text-decoration-color: #800080\">           0.7987370491027832           </span>│\n",
       "│<span style=\"color: #008080; text-decoration-color: #008080\">  test/Multiclass_Jaccard_Index_Micro   </span>│<span style=\"color: #800080; text-decoration-color: #800080\">           0.9301990866661072           </span>│\n",
       "│<span style=\"color: #008080; text-decoration-color: #008080\">               test/loss                </span>│<span style=\"color: #800080; text-decoration-color: #800080\">          0.18288634717464447           </span>│\n",
       "│<span style=\"color: #008080; text-decoration-color: #008080\">   test/multiclassaccuracy_Burn scar    </span>│<span style=\"color: #800080; text-decoration-color: #800080\">           0.6828244924545288           </span>│\n",
       "│<span style=\"color: #008080; text-decoration-color: #008080\">   test/multiclassaccuracy_Not burned   </span>│<span style=\"color: #800080; text-decoration-color: #800080\">           0.9925030469894409           </span>│\n",
       "│<span style=\"color: #008080; text-decoration-color: #008080\"> test/multiclassjaccardindex_Burn scar  </span>│<span style=\"color: #800080; text-decoration-color: #800080\">           0.6360765695571899           </span>│\n",
       "│<span style=\"color: #008080; text-decoration-color: #008080\"> test/multiclassjaccardindex_Not burned </span>│<span style=\"color: #800080; text-decoration-color: #800080\">           0.9613975882530212           </span>│\n",
       "└────────────────────────────────────────┴────────────────────────────────────────┘\n",
       "</pre>\n"
      ],
      "text/plain": [
       "┏━━━━━━━━━━━━━━━━━━━━━━━━━━━━━━━━━━━━━━━━┳━━━━━━━━━━━━━━━━━━━━━━━━━━━━━━━━━━━━━━━━┓\n",
       "┃\u001b[1m \u001b[0m\u001b[1m             Test metric              \u001b[0m\u001b[1m \u001b[0m┃\u001b[1m \u001b[0m\u001b[1m             DataLoader 0             \u001b[0m\u001b[1m \u001b[0m┃\n",
       "┡━━━━━━━━━━━━━━━━━━━━━━━━━━━━━━━━━━━━━━━━╇━━━━━━━━━━━━━━━━━━━━━━━━━━━━━━━━━━━━━━━━┩\n",
       "│\u001b[36m \u001b[0m\u001b[36m       test/Multiclass_Accuracy       \u001b[0m\u001b[36m \u001b[0m│\u001b[35m \u001b[0m\u001b[35m          0.9638374447822571          \u001b[0m\u001b[35m \u001b[0m│\n",
       "│\u001b[36m \u001b[0m\u001b[36m       test/Multiclass_F1_Score       \u001b[0m\u001b[36m \u001b[0m│\u001b[35m \u001b[0m\u001b[35m          0.9638374447822571          \u001b[0m\u001b[35m \u001b[0m│\n",
       "│\u001b[36m \u001b[0m\u001b[36m    test/Multiclass_Jaccard_Index     \u001b[0m\u001b[36m \u001b[0m│\u001b[35m \u001b[0m\u001b[35m          0.7987370491027832          \u001b[0m\u001b[35m \u001b[0m│\n",
       "│\u001b[36m \u001b[0m\u001b[36m test/Multiclass_Jaccard_Index_Micro  \u001b[0m\u001b[36m \u001b[0m│\u001b[35m \u001b[0m\u001b[35m          0.9301990866661072          \u001b[0m\u001b[35m \u001b[0m│\n",
       "│\u001b[36m \u001b[0m\u001b[36m              test/loss               \u001b[0m\u001b[36m \u001b[0m│\u001b[35m \u001b[0m\u001b[35m         0.18288634717464447          \u001b[0m\u001b[35m \u001b[0m│\n",
       "│\u001b[36m \u001b[0m\u001b[36m  test/multiclassaccuracy_Burn scar   \u001b[0m\u001b[36m \u001b[0m│\u001b[35m \u001b[0m\u001b[35m          0.6828244924545288          \u001b[0m\u001b[35m \u001b[0m│\n",
       "│\u001b[36m \u001b[0m\u001b[36m  test/multiclassaccuracy_Not burned  \u001b[0m\u001b[36m \u001b[0m│\u001b[35m \u001b[0m\u001b[35m          0.9925030469894409          \u001b[0m\u001b[35m \u001b[0m│\n",
       "│\u001b[36m \u001b[0m\u001b[36mtest/multiclassjaccardindex_Burn scar \u001b[0m\u001b[36m \u001b[0m│\u001b[35m \u001b[0m\u001b[35m          0.6360765695571899          \u001b[0m\u001b[35m \u001b[0m│\n",
       "│\u001b[36m \u001b[0m\u001b[36mtest/multiclassjaccardindex_Not burned\u001b[0m\u001b[36m \u001b[0m│\u001b[35m \u001b[0m\u001b[35m          0.9613975882530212          \u001b[0m\u001b[35m \u001b[0m│\n",
       "└────────────────────────────────────────┴────────────────────────────────────────┘\n"
      ]
     },
     "metadata": {},
     "output_type": "display_data"
    },
    {
     "data": {
      "text/plain": [
       "[{'test/loss': 0.18288634717464447,\n",
       "  'test/Multiclass_Accuracy': 0.9638374447822571,\n",
       "  'test/multiclassaccuracy_Not burned': 0.9925030469894409,\n",
       "  'test/multiclassaccuracy_Burn scar': 0.6828244924545288,\n",
       "  'test/Multiclass_F1_Score': 0.9638374447822571,\n",
       "  'test/Multiclass_Jaccard_Index': 0.7987370491027832,\n",
       "  'test/multiclassjaccardindex_Not burned': 0.9613975882530212,\n",
       "  'test/multiclassjaccardindex_Burn scar': 0.6360765695571899,\n",
       "  'test/Multiclass_Jaccard_Index_Micro': 0.9301990866661072}]"
      ]
     },
     "execution_count": 9,
     "metadata": {},
     "output_type": "execute_result"
    }
   ],
   "source": [
    "trainer.test(dataloaders=datamodule)"
   ]
  }
 ],
 "metadata": {
  "kernelspec": {
   "display_name": "Python 3 (ipykernel)",
   "language": "python",
   "name": "python3"
  },
  "language_info": {
   "codemirror_mode": {
    "name": "ipython",
    "version": 3
   },
   "file_extension": ".py",
   "mimetype": "text/x-python",
   "name": "python",
   "nbconvert_exporter": "python",
   "pygments_lexer": "ipython3",
   "version": "3.11.10"
  }
 },
 "nbformat": 4,
 "nbformat_minor": 5
}
